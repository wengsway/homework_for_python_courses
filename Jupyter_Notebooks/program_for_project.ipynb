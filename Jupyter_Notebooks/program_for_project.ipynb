{
 "cells": [
  {
   "cell_type": "code",
   "execution_count": null,
   "metadata": {},
   "outputs": [],
   "source": [
    "import tushare as ts\n",
    "import pandas as pd\n",
    "import matplotlib\n",
    "import matplotlib.pyplot as plt\n",
    "%matplotlib inline\n",
    "\n",
    "# 获取 20110701-20181122 期间上证指数每个交易日的收盘价\n",
    "ts.set_token(\"23e5bd311e39d44a430754422c024ea76781eb3327ef0013a8597f88\")\n",
    "pro = ts.pro_api()\n",
    "# INDEX_DATA 中存储了上证指数每日行情中的收盘价、涨跌幅和成交量等数据\n",
    "INDEX_DATA = pro.index_daily(ts_code=\"000001.SH\",\n",
    "                             start_date=\"20110701\",\n",
    "                             end_date=\"20181122\")\n",
    "# 重新定义一个 INDEX_CLOSE 用来存储日期和收盘价并将重新命名后的 date 列设置为索引列\n",
    "INDEX_CLOSE = INDEX_DATA[[\"trade_date\",\"close\"]]\n",
    "INDEX_CLOSE = INDEX_CLOSE.rename(columns={\"trade_date\":\"date\"})\n",
    "INDEX_CLOSE.set_index([\"date\"],inplace=True)\n",
    "print(INDEX_CLOSE.tail())\n",
    "'''\n",
    "# 画出上证指数的时间序列图\n",
    "plt.plot(INDEX_CLOSE[\"close\"],label=\"close\")\n",
    "plt.title(\"Time Series Map of 000001.SH\")\n",
    "plt.show()\n",
    "'''"
   ]
  },
  {
   "cell_type": "code",
   "execution_count": null,
   "metadata": {},
   "outputs": [],
   "source": []
  },
  {
   "cell_type": "code",
   "execution_count": null,
   "metadata": {},
   "outputs": [],
   "source": []
  }
 ],
 "metadata": {
  "kernelspec": {
   "display_name": "Python 3",
   "language": "python",
   "name": "python3"
  },
  "language_info": {
   "codemirror_mode": {
    "name": "ipython",
    "version": 3
   },
   "file_extension": ".py",
   "mimetype": "text/x-python",
   "name": "python",
   "nbconvert_exporter": "python",
   "pygments_lexer": "ipython3",
   "version": "3.7.0"
  }
 },
 "nbformat": 4,
 "nbformat_minor": 2
}
