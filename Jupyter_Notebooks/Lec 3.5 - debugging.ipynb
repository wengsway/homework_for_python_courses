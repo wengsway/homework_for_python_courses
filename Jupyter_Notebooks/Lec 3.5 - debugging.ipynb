{
  "cells": [
    {
      "cell_type": "markdown",
      "metadata": {},
      "source": [
        "# Debugging\n",
        "\n",
        "\n",
        "<a id='index-0'></a>"
      ]
    },
    {
      "cell_type": "markdown",
      "metadata": {},
      "source": [
        "## Contents\n",
        "\n",
        "- [Debugging](#Debugging)  \n",
        "  - [Overview](#Overview)  \n",
        "  - [Debugging](#Debugging)  \n",
        "  - [Other Useful Magics](#Other-Useful-Magics)  "
      ]
    },
    {
      "cell_type": "markdown",
      "metadata": {},
      "source": [
        "> “Debugging is twice as hard as writing the code in the first place.\n",
        "> Therefore, if you write the code as cleverly as possible, you are, by definition,\n",
        "> not smart enough to debug it.” – Brian Kernighan"
      ]
    },
    {
      "cell_type": "markdown",
      "metadata": {},
      "source": [
        "## Overview\n",
        "\n",
        "Are you one of those programmers who fills their code with `print` statements when trying to debug their programs?\n",
        "\n",
        "Hey, we all used to do that\n",
        "\n",
        "(OK, sometimes we still do that…)\n",
        "\n",
        "But once you start writing larger programs you’ll need a better system\n",
        "\n",
        "Debugging tools for Python vary across platforms, IDEs and editors\n",
        "\n",
        "Here we’ll focus on Jupyter and leave you to explore other settings\n",
        "\n",
        "We’ll need the following imports"
      ]
    },
    {
      "cell_type": "code",
      "execution_count": 1,
      "metadata": {
        "hide-output": false
      },
      "outputs": [],
      "source": [
        "import numpy as np\n",
        "import matplotlib.pyplot as plt\n",
        "%matplotlib inline"
      ]
    },
    {
      "cell_type": "markdown",
      "metadata": {},
      "source": [
        "## Debugging\n",
        "\n",
        "\n",
        "<a id='index-1'></a>"
      ]
    },
    {
      "cell_type": "markdown",
      "metadata": {},
      "source": [
        "### The `debug` Magic\n",
        "\n",
        "Let’s consider a simple (and rather contrived) example"
      ]
    },
    {
      "cell_type": "code",
      "execution_count": 2,
      "metadata": {
        "hide-output": false
      },
      "outputs": [
        {
          "ename": "AttributeError",
          "evalue": "'numpy.ndarray' object has no attribute 'plot'",
          "output_type": "error",
          "traceback": [
            "\u001b[0;31m---------------------------------------------------------------------------\u001b[0m",
            "\u001b[0;31mAttributeError\u001b[0m                            Traceback (most recent call last)",
            "\u001b[0;32m<ipython-input-2-c32a2280f47b>\u001b[0m in \u001b[0;36m<module>\u001b[0;34m()\u001b[0m\n\u001b[1;32m      5\u001b[0m     \u001b[0mplt\u001b[0m\u001b[0;34m.\u001b[0m\u001b[0mshow\u001b[0m\u001b[0;34m(\u001b[0m\u001b[0;34m)\u001b[0m\u001b[0;34m\u001b[0m\u001b[0m\n\u001b[1;32m      6\u001b[0m \u001b[0;34m\u001b[0m\u001b[0m\n\u001b[0;32m----> 7\u001b[0;31m \u001b[0mplot_log\u001b[0m\u001b[0;34m(\u001b[0m\u001b[0;34m)\u001b[0m  \u001b[0;31m# Call the function, generate plot\u001b[0m\u001b[0;34m\u001b[0m\u001b[0m\n\u001b[0m",
            "\u001b[0;32m<ipython-input-2-c32a2280f47b>\u001b[0m in \u001b[0;36mplot_log\u001b[0;34m()\u001b[0m\n\u001b[1;32m      2\u001b[0m     \u001b[0mfig\u001b[0m\u001b[0;34m,\u001b[0m \u001b[0max\u001b[0m \u001b[0;34m=\u001b[0m \u001b[0mplt\u001b[0m\u001b[0;34m.\u001b[0m\u001b[0msubplots\u001b[0m\u001b[0;34m(\u001b[0m\u001b[0;36m2\u001b[0m\u001b[0;34m,\u001b[0m \u001b[0;36m1\u001b[0m\u001b[0;34m)\u001b[0m\u001b[0;34m\u001b[0m\u001b[0m\n\u001b[1;32m      3\u001b[0m     \u001b[0mx\u001b[0m \u001b[0;34m=\u001b[0m \u001b[0mnp\u001b[0m\u001b[0;34m.\u001b[0m\u001b[0mlinspace\u001b[0m\u001b[0;34m(\u001b[0m\u001b[0;36m1\u001b[0m\u001b[0;34m,\u001b[0m \u001b[0;36m2\u001b[0m\u001b[0;34m,\u001b[0m \u001b[0;36m10\u001b[0m\u001b[0;34m)\u001b[0m\u001b[0;34m\u001b[0m\u001b[0m\n\u001b[0;32m----> 4\u001b[0;31m     \u001b[0max\u001b[0m\u001b[0;34m.\u001b[0m\u001b[0mplot\u001b[0m\u001b[0;34m(\u001b[0m\u001b[0mx\u001b[0m\u001b[0;34m,\u001b[0m \u001b[0mnp\u001b[0m\u001b[0;34m.\u001b[0m\u001b[0mlog\u001b[0m\u001b[0;34m(\u001b[0m\u001b[0mx\u001b[0m\u001b[0;34m)\u001b[0m\u001b[0;34m)\u001b[0m\u001b[0;34m\u001b[0m\u001b[0m\n\u001b[0m\u001b[1;32m      5\u001b[0m     \u001b[0mplt\u001b[0m\u001b[0;34m.\u001b[0m\u001b[0mshow\u001b[0m\u001b[0;34m(\u001b[0m\u001b[0;34m)\u001b[0m\u001b[0;34m\u001b[0m\u001b[0m\n\u001b[1;32m      6\u001b[0m \u001b[0;34m\u001b[0m\u001b[0m\n",
            "\u001b[0;31mAttributeError\u001b[0m: 'numpy.ndarray' object has no attribute 'plot'"
          ]
        },
        {
          "data": {
            "image/png": "[encoded data removed]",
            "text/plain": [
              "<Figure size 432x288 with 2 Axes>"
            ]
          },
          "metadata": {
            "needs_background": "light"
          },
          "output_type": "display_data"
        }
      ],
      "source": [
        "def plot_log():\n",
        "    fig, ax = plt.subplots(2, 1)\n",
        "    x = np.linspace(1, 2, 10)\n",
        "    ax.plot(x, np.log(x))\n",
        "    plt.show()\n",
        "\n",
        "plot_log()  # Call the function, generate plot"
      ]
    },
    {
      "cell_type": "markdown",
      "metadata": {},
      "source": [
        "This code is intended to plot the `log` function over the interval $ [1, 2] $\n",
        "\n",
        "But there’s an error here: `plt.subplots(2, 1)` should be just `plt.subplots()`\n",
        "\n",
        "(The call `plt.subplots(2, 1)` returns a NumPy array containing two axes objects, suitable for having two subplots on the same figure)\n",
        "\n",
        "The traceback shows that the error occurs at the method call `ax.plot(x, np.log(x))`\n",
        "\n",
        "The error occurs because we have mistakenly made `ax` a NumPy array, and a NumPy array has no `plot` method\n",
        "\n",
        "But let’s pretend that we don’t understand this for the moment\n",
        "\n",
        "We might suspect there’s something wrong with `ax` but when we try to investigate this object, we get the following exception:"
      ]
    },
    {
      "cell_type": "code",
      "execution_count": 3,
      "metadata": {
        "hide-output": false
      },
      "outputs": [
        {
          "ename": "NameError",
          "evalue": "name 'ax' is not defined",
          "output_type": "error",
          "traceback": [
            "\u001b[0;31m---------------------------------------------------------------------------\u001b[0m",
            "\u001b[0;31mNameError\u001b[0m                                 Traceback (most recent call last)",
            "\u001b[0;32m<ipython-input-3-b00e77935981>\u001b[0m in \u001b[0;36m<module>\u001b[0;34m()\u001b[0m\n\u001b[0;32m----> 1\u001b[0;31m \u001b[0max\u001b[0m\u001b[0;34m\u001b[0m\u001b[0m\n\u001b[0m",
            "\u001b[0;31mNameError\u001b[0m: name 'ax' is not defined"
          ]
        }
      ],
      "source": [
        "ax"
      ]
    },
    {
      "cell_type": "markdown",
      "metadata": {},
      "source": [
        "The problem is that `ax` was defined inside `plot_log()`, and the name is\n",
        "lost once that function terminates\n",
        "\n",
        "Let’s try doing it a different way\n",
        "\n",
        "We run the first cell block again, generating the same error"
      ]
    },
    {
      "cell_type": "code",
      "execution_count": 4,
      "metadata": {
        "hide-output": false
      },
      "outputs": [
        {
          "ename": "AttributeError",
          "evalue": "'numpy.ndarray' object has no attribute 'plot'",
          "output_type": "error",
          "traceback": [
            "\u001b[0;31m---------------------------------------------------------------------------\u001b[0m",
            "\u001b[0;31mAttributeError\u001b[0m                            Traceback (most recent call last)",
            "\u001b[0;32m<ipython-input-4-c32a2280f47b>\u001b[0m in \u001b[0;36m<module>\u001b[0;34m()\u001b[0m\n\u001b[1;32m      5\u001b[0m     \u001b[0mplt\u001b[0m\u001b[0;34m.\u001b[0m\u001b[0mshow\u001b[0m\u001b[0;34m(\u001b[0m\u001b[0;34m)\u001b[0m\u001b[0;34m\u001b[0m\u001b[0m\n\u001b[1;32m      6\u001b[0m \u001b[0;34m\u001b[0m\u001b[0m\n\u001b[0;32m----> 7\u001b[0;31m \u001b[0mplot_log\u001b[0m\u001b[0;34m(\u001b[0m\u001b[0;34m)\u001b[0m  \u001b[0;31m# Call the function, generate plot\u001b[0m\u001b[0;34m\u001b[0m\u001b[0m\n\u001b[0m",
            "\u001b[0;32m<ipython-input-4-c32a2280f47b>\u001b[0m in \u001b[0;36mplot_log\u001b[0;34m()\u001b[0m\n\u001b[1;32m      2\u001b[0m     \u001b[0mfig\u001b[0m\u001b[0;34m,\u001b[0m \u001b[0max\u001b[0m \u001b[0;34m=\u001b[0m \u001b[0mplt\u001b[0m\u001b[0;34m.\u001b[0m\u001b[0msubplots\u001b[0m\u001b[0;34m(\u001b[0m\u001b[0;36m2\u001b[0m\u001b[0;34m,\u001b[0m \u001b[0;36m1\u001b[0m\u001b[0;34m)\u001b[0m\u001b[0;34m\u001b[0m\u001b[0m\n\u001b[1;32m      3\u001b[0m     \u001b[0mx\u001b[0m \u001b[0;34m=\u001b[0m \u001b[0mnp\u001b[0m\u001b[0;34m.\u001b[0m\u001b[0mlinspace\u001b[0m\u001b[0;34m(\u001b[0m\u001b[0;36m1\u001b[0m\u001b[0;34m,\u001b[0m \u001b[0;36m2\u001b[0m\u001b[0;34m,\u001b[0m \u001b[0;36m10\u001b[0m\u001b[0;34m)\u001b[0m\u001b[0;34m\u001b[0m\u001b[0m\n\u001b[0;32m----> 4\u001b[0;31m     \u001b[0max\u001b[0m\u001b[0;34m.\u001b[0m\u001b[0mplot\u001b[0m\u001b[0;34m(\u001b[0m\u001b[0mx\u001b[0m\u001b[0;34m,\u001b[0m \u001b[0mnp\u001b[0m\u001b[0;34m.\u001b[0m\u001b[0mlog\u001b[0m\u001b[0;34m(\u001b[0m\u001b[0mx\u001b[0m\u001b[0;34m)\u001b[0m\u001b[0;34m)\u001b[0m\u001b[0;34m\u001b[0m\u001b[0m\n\u001b[0m\u001b[1;32m      5\u001b[0m     \u001b[0mplt\u001b[0m\u001b[0;34m.\u001b[0m\u001b[0mshow\u001b[0m\u001b[0;34m(\u001b[0m\u001b[0;34m)\u001b[0m\u001b[0;34m\u001b[0m\u001b[0m\n\u001b[1;32m      6\u001b[0m \u001b[0;34m\u001b[0m\u001b[0m\n",
            "\u001b[0;31mAttributeError\u001b[0m: 'numpy.ndarray' object has no attribute 'plot'"
          ]
        },
        {
          "data": {
            "image/png": "[encoded data removed]",
            "text/plain": [
              "<Figure size 432x288 with 2 Axes>"
            ]
          },
          "metadata": {
            "needs_background": "light"
          },
          "output_type": "display_data"
        }
      ],
      "source": [
        "def plot_log():\n",
        "    fig, ax = plt.subplots(2, 1)\n",
        "    x = np.linspace(1, 2, 10)\n",
        "    ax.plot(x, np.log(x))\n",
        "    plt.show()\n",
        "\n",
        "plot_log()  # Call the function, generate plot"
      ]
    },
    {
      "cell_type": "markdown",
      "metadata": {},
      "source": [
        "But this time we type in the following cell block"
      ]
    },
    {
      "cell_type": "markdown",
      "metadata": {
        "hide-output": false
      },
      "source": [
        "```ipython\n",
        "%debug\n",
        "```\n"
      ]
    },
    {
      "cell_type": "markdown",
      "metadata": {},
      "source": [
        "You should be dropped into a new prompt that looks something like this"
      ]
    },
    {
      "cell_type": "markdown",
      "metadata": {
        "hide-output": false
      },
      "source": [
        "```ipython\n",
        "ipdb>\n",
        "```\n"
      ]
    },
    {
      "cell_type": "markdown",
      "metadata": {},
      "source": [
        "(You might see pdb> instead)\n",
        "\n",
        "Now we can investigate the value of our variables at this point in the program, step forward through the code, etc.\n",
        "\n",
        "For example, here we simply type the name `ax` to see what’s happening with\n",
        "this object:"
      ]
    },
    {
      "cell_type": "markdown",
      "metadata": {
        "hide-output": false
      },
      "source": [
        "```ipython\n",
        "ipdb> ax\n",
        "array([<matplotlib.axes.AxesSubplot object at 0x290f5d0>,\n",
        "       <matplotlib.axes.AxesSubplot object at 0x2930810>], dtype=object)\n",
        "```\n"
      ]
    },
    {
      "cell_type": "markdown",
      "metadata": {},
      "source": [
        "It’s now very clear that `ax` is an array, which clarifies the source of the\n",
        "problem\n",
        "\n",
        "To find out what else you can do from inside `ipdb` (or `pdb`), use the\n",
        "online help"
      ]
    },
    {
      "cell_type": "markdown",
      "metadata": {
        "hide-output": false
      },
      "source": [
        "```ipython\n",
        "ipdb> h\n",
        "\n",
        "Documented commands (type help <topic>):\n",
        "========================================\n",
        "EOF    bt         cont      enable  jump  pdef   r        tbreak   w\n",
        "a      c          continue  exit    l     pdoc   restart  u        whatis\n",
        "alias  cl         d         h       list  pinfo  return   unalias  where\n",
        "args   clear      debug     help    n     pp     run      unt\n",
        "b      commands   disable   ignore  next  q      s        until\n",
        "break  condition  down      j       p     quit   step     up\n",
        "\n",
        "Miscellaneous help topics:\n",
        "==========================\n",
        "exec  pdb\n",
        "\n",
        "Undocumented commands:\n",
        "======================\n",
        "retval  rv\n",
        "\n",
        "ipdb> h c\n",
        "c(ont(inue))\n",
        "Continue execution, only stop when a breakpoint is encountered.\n",
        "```\n"
      ]
    },
    {
      "cell_type": "markdown",
      "metadata": {},
      "source": [
        "### Setting a Break Point\n",
        "\n",
        "The preceding approach is handy but sometimes insufficient\n",
        "\n",
        "Consider the following modified version of our function above"
      ]
    },
    {
      "cell_type": "code",
      "execution_count": 5,
      "metadata": {
        "hide-output": false
      },
      "outputs": [
        {
          "data": {
            "image/png": "[encoded data removed]",
            "text/plain": [
              "<Figure size 432x288 with 1 Axes>"
            ]
          },
          "metadata": {
            "needs_background": "light"
          },
          "output_type": "display_data"
        }
      ],
      "source": [
        "def plot_log():\n",
        "    fig, ax = plt.subplots()\n",
        "    x = np.logspace(1, 2, 10)\n",
        "    ax.plot(x, np.log(x))\n",
        "    plt.show()\n",
        "\n",
        "plot_log()"
      ]
    },
    {
      "cell_type": "markdown",
      "metadata": {},
      "source": [
        "Here the original problem is fixed, but we’ve accidentally written\n",
        "`np.logspace(1, 2, 10)` instead of `np.linspace(1, 2, 10)`\n",
        "\n",
        "Now there won’t be any exception, but the plot won’t look right\n",
        "\n",
        "To investigate, it would be helpful if we could inspect variables like `x` during execution of the function\n",
        "\n",
        "To this end, we add a “break point” by inserting  `breakpoint()` inside the function code block"
      ]
    },
    {
      "cell_type": "markdown",
      "metadata": {
        "hide-output": false
      },
      "source": [
        "```python3\n",
        "def plot_log():\n",
        "    breakpoint()\n",
        "    fig, ax = plt.subplots()\n",
        "    x = np.logspace(1, 2, 10)\n",
        "    ax.plot(x, np.log(x))\n",
        "    plt.show()\n",
        "\n",
        "plot_log()\n",
        "```\n"
      ]
    },
    {
      "cell_type": "markdown",
      "metadata": {},
      "source": [
        "Now let’s run the script, and investigate via the debugger"
      ]
    },
    {
      "cell_type": "markdown",
      "metadata": {
        "hide-output": false
      },
      "source": [
        "```ipython\n",
        "> <ipython-input-6-a188074383b7>(6)plot_log()\n",
        "-> fig, ax = plt.subplots()\n",
        "(Pdb) n\n",
        "> <ipython-input-6-a188074383b7>(7)plot_log()\n",
        "-> x = np.logspace(1, 2, 10)\n",
        "(Pdb) n\n",
        "> <ipython-input-6-a188074383b7>(8)plot_log()\n",
        "-> ax.plot(x, np.log(x))\n",
        "(Pdb) x\n",
        "array([ 10.        ,  12.91549665,  16.68100537,  21.5443469 ,\n",
        "        27.82559402,  35.93813664,  46.41588834,  59.94842503,\n",
        "        77.42636827, 100.        ])\n",
        "```\n"
      ]
    },
    {
      "cell_type": "markdown",
      "metadata": {},
      "source": [
        "We used `n` twice to step forward through the code (one line at a time)\n",
        "\n",
        "Then we printed the value of `x` to see what was happening with that variable\n",
        "\n",
        "To exit from the debugger, use `q`"
      ]
    },
    {
      "cell_type": "markdown",
      "metadata": {},
      "source": [
        "## Other Useful Magics\n",
        "\n",
        "In this lecture we used the `%debug` IPython magic\n",
        "\n",
        "There are many other useful magics:\n",
        "\n",
        "- `%precision 4` sets printed precision for floats to 4 decimal places  \n",
        "- `%whos` gives a list of variables and their values  \n",
        "- `%quickref` gives a list of magics  \n",
        "\n",
        "\n",
        "The full list of magics is [here](http://ipython.readthedocs.org/en/stable/interactive/magics.html)"
      ]
    }
  ],
  "metadata": {
    "filename": "debugging.rst",
    "kernelspec": {
      "display_name": "Python",
      "language": "python3",
      "name": "python3"
    },
    "language_info": {
      "codemirror_mode": {
        "name": "ipython",
        "version": 3
      },
      "file_extension": ".py",
      "mimetype": "text/x-python",
      "name": "python",
      "nbconvert_exporter": "python",
      "pygments_lexer": "ipython3",
      "version": "3.7.0"
    },
    "title": "Debugging"
  },
  "nbformat": 4,
  "nbformat_minor": 2
}