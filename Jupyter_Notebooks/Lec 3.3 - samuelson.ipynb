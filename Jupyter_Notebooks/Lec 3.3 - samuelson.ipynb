{
 "cells": [
  {
   "cell_type": "markdown",
   "metadata": {},
   "source": [
    "# OOP III: The Samuelson Accelerator"
   ]
  },
  {
   "cell_type": "markdown",
   "metadata": {},
   "source": [
    "## Contents\n",
    "\n",
    "- [OOP III: The Samuelson Accelerator](#OOP-III:-The-Samuelson-Accelerator)  \n",
    "  - [Overview](#Overview)  \n",
    "  - [Details](#Details)  \n",
    "  - [Implementation](#Implementation)  \n",
    "  - [Stochastic shocks](#Stochastic-shocks)  \n",
    "  - [Government spending](#Government-spending)  \n",
    "  - [Wrapping everything into a class](#Wrapping-everything-into-a-class)  \n",
    "  - [Using the LinearStateSpace class](#Using-the-LinearStateSpace-class)  \n",
    "  - [Pure multiplier model](#Pure-multiplier-model)  \n",
    "  - [Summary](#Summary)  "
   ]
  },
  {
   "cell_type": "markdown",
   "metadata": {},
   "source": [
    "**Co-author: Natasha Watkins**"
   ]
  },
  {
   "cell_type": "markdown",
   "metadata": {},
   "source": [
    "## Overview\n",
    "\n",
    "This lecture creates nonstochastic and stochastic versions of Paul Samuelson’s celebrated multiplier accelerator model [[Sam39]](zreferences.ipynb#samuelson1939)\n",
    "\n",
    "In doing so, we extend the example of the Solow model class in [our second OOP lecture](python_oop.ipynb)\n",
    "\n",
    "Our objectives are to\n",
    "\n",
    "- provide a more detailed example of OOP and classes  \n",
    "- review a famous model  \n",
    "- review linear difference equations, both deterministic and stochastic  "
   ]
  },
  {
   "cell_type": "markdown",
   "metadata": {},
   "source": [
    "### Samuelson’s Model\n",
    "\n",
    "Samuelson used a *second-order linear difference equation* to\n",
    "represent a model of national output based on three components:\n",
    "\n",
    "- a *national output identity* asserting that national outcome is the\n",
    "  sum of **consumption** plus **investment** plus **government purchases**  \n",
    "- a Keynesian *consumption function* asserting that consumption at\n",
    "  time $ t $ is equal to a constant times national output at time $ t-1 $  \n",
    "- an investment *accelerator* asserting that investment at time\n",
    "  $ t $ equals a constant called the *accelerator coefficient*\n",
    "  times the difference in output between period $ t-1 $ and\n",
    "  $ t-2 $  \n",
    "- the idea that consumption plus investment plus government purchases\n",
    "  constitute *aggregate demand,* which automatically calls forth an\n",
    "  equal amount of *aggregate supply*  \n",
    "\n",
    "\n",
    "(To read about linear difference equations see [here](https://en.wikipedia.org/wiki/Linear_difference_equation) or chapter IX of [[Sar87]](zreferences.ipynb#sargent1987))\n",
    "\n",
    "Samuelson used the model to analyze how particular values of the\n",
    "marginal propensity to consume and the accelerator coefficient might\n",
    "give rise to transient *business cycles* in national output\n",
    "\n",
    "Possible dynamic properties include\n",
    "\n",
    "- smooth convergence to a constant level of output  \n",
    "- damped business cycles that eventually converge to a constant level\n",
    "  of output  \n",
    "- persistent business cycles that neither dampen nor explode  \n",
    "\n",
    "\n",
    "Later we present an extension that\n",
    "adds a random shock to the right side of the national income\n",
    "identity representing random fluctuations in aggregate demand\n",
    "\n",
    "This modification makes national output become governed by a second-order\n",
    "*stochastic linear difference equation* that, with appropriate parameter values,\n",
    "gives rise to recurrent irregular business cycles\n",
    "\n",
    "(To read about stochastic linear difference equations see chapter XI of\n",
    "[[Sar87]](zreferences.ipynb#sargent1987))"
   ]
  },
  {
   "cell_type": "markdown",
   "metadata": {},
   "source": [
    "## Details\n",
    "\n",
    "Let’s assume that\n",
    "\n",
    "- $ \\{G_t\\} $ is a sequence of levels of government expenditures –\n",
    "  we’ll start by setting $ G_t = G $ for all $ t $  \n",
    "- $ \\{C_t\\} $ is a sequence of levels of aggregate consumption\n",
    "  expenditures, a key endogenous variable in the model  \n",
    "- $ \\{I_t\\} $ is a sequence of rates of investment, another key\n",
    "  endogenous variable  \n",
    "- $ \\{Y_t\\} $ is a sequence of levels of national income, yet\n",
    "  another endogenous variable  \n",
    "\n",
    "\n",
    "- $ a $ is the marginal propensity to consume in the Keynesian\n",
    "  consumption function $ C_t = a Y_{t-1} + \\gamma $  \n",
    "- $ b $ is the “accelerator coefficient” in the “investment\n",
    "  accelerator” $I_t = b (Y_{t-1} - Y_{t-2}) $  \n",
    "- $ \\{\\epsilon_{t}\\} $ is an IID sequence standard normal random variables  \n",
    "- $ \\sigma \\geq 0 $ is a “volatility”\n",
    "  parameter — setting $ \\sigma = 0 $ recovers the nonstochastic case\n",
    "  that we’ll start with  \n",
    "\n",
    "\n",
    "The model combines the consumption function\n",
    "\n",
    "\n",
    "<a id='equation-consumption'></a>\n",
    "$$\n",
    "C_t = a Y_{t-1} + \\gamma \\tag{1}\n",
    "$$\n",
    "\n",
    "with the investment accelerator\n",
    "\n",
    "\n",
    "<a id='equation-accelerator'></a>\n",
    "$$\n",
    "I_t = b (Y_{t-1} - Y_{t-2}) \\tag{2}\n",
    "$$\n",
    "\n",
    "and the national income identity\n",
    "\n",
    "\n",
    "<a id='equation-income-identity'></a>\n",
    "$$\n",
    "Y_t = C_t + I_t + G_t \\tag{3}\n",
    "$$\n",
    "\n",
    "- The parameter $ a $ is peoples’ *marginal propensity to consume*\n",
    "  out of income - equation [(1)](#equation-consumption) asserts that people consume a fraction of\n",
    "  math:a in (0,1) of each additional dollar of income  \n",
    "- The parameter $b > 0 $ is the investment accelerator coefficient - equation\n",
    "  [(2)](#equation-accelerator) asserts that people invest in physical capital when\n",
    "  income is increasing and disinvest when it is decreasing  \n",
    "\n",
    "\n",
    "Equations [(1)](#equation-consumption), [(2)](#equation-accelerator), and [(3)](#equation-income-identity)\n",
    "imply the following second-order linear difference equation for national income:\n",
    "\n",
    "$$\n",
    "Y_t = (a+b) Y_{t-1} - b Y_{t-2} + (\\gamma + G_t)\n",
    "$$\n",
    "\n",
    "or\n",
    "\n",
    "\n",
    "<a id='equation-second-order'></a>\n",
    "$$\n",
    "Y_t = \\rho_1 Y_{t-1} + \\rho_2 Y_{t-2} + (\\gamma + G_t) \\tag{4}\n",
    "$$\n",
    "\n",
    "where $ \\rho_1 = (a+b) $ and $ \\rho_2 = -b $\n",
    "\n",
    "To complete the model, we require two **initial conditions**\n",
    "\n",
    "If the model is to generate time series for $ t=0, \\ldots, T $, we\n",
    "require initial values\n",
    "\n",
    "$$\n",
    "Y_{-1} = \\bar Y_{-1}, \\quad  Y_{-2} = \\bar Y_{-2}\n",
    "$$\n",
    "\n",
    "We’ll ordinarily set the parameters $ (a,b) $ so that starting from\n",
    "an arbitrary pair of initial conditions\n",
    "$ (\\bar Y_{-1}, \\bar Y_{-2}) $, national income $Y_t $ converges to\n",
    "a constant value as $ t $ becomes large\n",
    "\n",
    "We are interested in studying\n",
    "\n",
    "- the transient fluctuations in $ Y_t $ as it converges to its\n",
    "  **steady state** level  \n",
    "- the **rate** at which it converges to a steady state level  \n",
    "\n",
    "\n",
    "The deterministic version of the model described so far — meaning that\n",
    "no random shocks hit aggregate demand — has only transient fluctuations\n",
    "\n",
    "We can convert the model to one that has persistent irregular\n",
    "fluctuations by adding a random shock to aggregate demand"
   ]
  },
  {
   "cell_type": "markdown",
   "metadata": {},
   "source": [
    "### Stochastic version of the model\n",
    "\n",
    "We create a **random** or **stochastic** version of the model by adding\n",
    "a random process of **shocks** or **disturbances**\n",
    "$ \\{\\sigma \\epsilon_t \\} $ to the right side of equation [(4)](#equation-second-order),\n",
    "leading to the **second-order scalar linear stochastic difference\n",
    "equation**:\n",
    "\n",
    "\n",
    "<a id='equation-second-stochastic'></a>\n",
    "$$\n",
    "Y_t = G_t + a (1-b) Y_{t-1} - a b Y_{t-2} + \\sigma \\epsilon_{t} \\tag{5}\n",
    "$$"
   ]
  },
  {
   "cell_type": "markdown",
   "metadata": {},
   "source": [
    "### Mathematical analysis of the model\n",
    "\n",
    "To get started, let’s set $ G_t \\equiv 0 $, $ \\sigma = 0 $, and\n",
    "$ \\gamma = 0 $\n",
    "\n",
    "Then we can write equation [(5)](#equation-second-stochastic) as\n",
    "\n",
    "$$\n",
    "Y_t = \\rho_1 Y_{t-1} + \\rho_2 Y_{t-2}\n",
    "$$\n",
    "\n",
    "or\n",
    "\n",
    "\n",
    "<a id='equation-second-stochastic2'></a>\n",
    "$$\n",
    "Y_{t+2} - \\rho_1 Y_{t+1} - \\rho_2 Y_t  = 0 \\tag{6}\n",
    "$$\n",
    "\n",
    "To discover the properties of the solution of [(6)](#equation-second-stochastic2),\n",
    "it is useful first to form the **characteristic polynomial**\n",
    "for [(6)](#equation-second-stochastic2):\n",
    "\n",
    "\n",
    "<a id='equation-polynomial'></a>\n",
    "$$\n",
    "z^2 - \\rho_1 z  - \\rho_2 \\tag{7}\n",
    "$$\n",
    "\n",
    "where $ z $ is possibly a complex number\n",
    "\n",
    "We want to find the two **zeros** (a.k.a. **roots**) – namely\n",
    "$ \\lambda_1, \\lambda_2 $ – of the characteristic polynomial\n",
    "\n",
    "These are two special values of $ z $, say $ z= \\lambda_1 $ and\n",
    "$ z= \\lambda_2 $, such that if we set $ z $ equal to one of\n",
    "these values in expression [(7)](#equation-polynomial),\n",
    "the characteristic polynomial [(7)](#equation-polynomial) equals zero:\n",
    "\n",
    "\n",
    "<a id='equation-polynomial-sol'></a>\n",
    "$$\n",
    "z^2 - \\rho_1 z  - \\rho_2  = (z- \\lambda_1 ) (z -\\lambda_2) = 0 \\tag{8}\n",
    "$$\n",
    "\n",
    "Equation [(8)](#equation-polynomial-sol) is said to **factor** the characteristic polynomial\n",
    "\n",
    "When the roots are complex, they will occur as a complex conjugate pair\n",
    "\n",
    "When the roots are complex, it is convenient to represent them in the\n",
    "polar form\n",
    "\n",
    "$$\n",
    "\\lambda_1 =  r e^{i \\omega}, \\  \\lambda_2 = r e^{-i \\omega}\n",
    "$$\n",
    "\n",
    "where $ r $ is the *amplitude* of the complex number and\n",
    "$ \\omega $ is its *angle* or *phase*\n",
    "\n",
    "These can also be represented as\n",
    "\n",
    "$$\n",
    "\\lambda_1 = r (cos (\\omega) + i \\sin (\\omega))\n",
    "$$\n",
    "\n",
    "$$\n",
    "\\lambda_2 = r (cos (\\omega) - i \\sin(\\omega))\n",
    "$$\n",
    "\n",
    "(To read about the polar form, see\n",
    "[here](https://www.varsitytutors.com/hotmath/hotmath_help/topics/polar-form-of-a-complex-number))\n",
    "\n",
    "Given **initial conditions** $ Y_{-1}, Y_{-2} $, we want to generate\n",
    "a **solution** of the difference equation [(6)](#equation-second-stochastic2)\n",
    "\n",
    "It can be represented as\n",
    "\n",
    "$$\n",
    "Y_t = \\lambda_1^t c_1 + \\lambda_2^t c_2\n",
    "$$\n",
    "\n",
    "where $ c_1 $ and $ c_2 $ are constants that depend on the two\n",
    "initial conditions and on $ \\rho_1, \\rho_2 $\n",
    "\n",
    "When the roots are complex, it is useful to pursue the following calculations\n",
    "\n",
    "Notice that\n",
    "\n",
    "$$\n",
    "\\begin{eqnarray}\n",
    "  Y_t & =  & c_1 (r e^{i \\omega})^t + c_2 (r e^{-i \\omega})^t  \\\\\n",
    "   & = & c_1 r^t e^{i\\omega t} + c_2 r^t e^{-i \\omega t} \\\\\n",
    "   & = &  c_1 r^t [\\cos(\\omega t) + i \\sin(\\omega t) ] + c_2 r^t [\\cos(\\omega t) - i \\sin(\\omega t) ] \\\\\n",
    "   & = & (c_1 + c_2) r^t \\cos(\\omega t) + i (c_1 - c_2) r^t \\sin(\\omega t)\n",
    " \\end{eqnarray}\n",
    "$$\n",
    "\n",
    "The only way that $ Y_t $ can be a  real number for each $ t $ is if $ c_1 + c_2 $ is a real number and $ c_1 - c_2 $ is an imaginary number\n",
    "\n",
    "This happens only when $ c_1 $ and $ c_2 $ are complex conjugates, in which case they can be written in the polar forms\n",
    "\n",
    "$$\n",
    "c_1 = v e^{i \\theta},  \\  \\ c_2 = v e^{- i \\theta}\n",
    "$$\n",
    "\n",
    "So we can write\n",
    "\n",
    "$$\n",
    "\\begin{eqnarray}\n",
    "  Y_t & = & v e^{i \\theta} r^t e^{i \\omega t} + v e ^{- i \\theta} r^t e^{-i \\omega t} \\\\\n",
    "      & = & v r^t [ e^{i(\\omega t + \\theta)} + e^{-i (\\omega t +\\theta)}]  \\\\\n",
    "      & = & 2 v r^t  \\cos (\\omega t + \\theta)\n",
    " \\end{eqnarray}\n",
    "$$\n",
    "\n",
    "where $ v $ and $ \\theta $ are constants that must be chosen to satisfy initial conditions for $ Y_{-1}, Y_{-2} $\n",
    "\n",
    "This formula shows that when the roots are complex, $ Y_t $ displays\n",
    "oscillations with **period** $ \\check p =\n",
    "\\frac{2 \\pi}{\\omega} $ and **damping factor** $ r $\n",
    "\n",
    "We say that $ \\check p $ is the **period** because in that amount of time the cosine wave $ \\cos(\\omega t + \\theta) $ goes through exactly one complete cycles\n",
    "\n",
    "(Draw a cosine funtion to convince yourself of this please)\n",
    "\n",
    "**Remark:** Following [[Sam39]](zreferences.ipynb#samuelson1939), we want to choose the parameters\n",
    "$ a, b $ of the model so that the absolute values (of the possibly\n",
    "complex) roots $ \\lambda_1, \\lambda_2 $ of the characteristic\n",
    "polynomial are both strictly less than one:\n",
    "\n",
    "$$\n",
    "| \\lambda_j | < 1 \\quad \\quad \\text{for } j = 1, 2\n",
    "$$\n",
    "\n",
    "**Remark:** When both roots  $ \\lambda_1, \\lambda_2 $ of the characteristic polynomial have\n",
    "absolute values strictly less than one, the absolute value of the larger\n",
    "one governs the rate of convergence to the steady state of the non\n",
    "stochastic version of the model"
   ]
  },
  {
   "cell_type": "markdown",
   "metadata": {},
   "source": [
    "### Things this lecture does\n",
    "\n",
    "We write a function to generate simulations of a $ \\{Y_t\\} $ sequence as a function of time\n",
    "\n",
    "The function requires that we put in initial conditions for $ Y_{-1}, Y_{-2} $\n",
    "\n",
    "\n",
    "<dl style='margin: 20px 0;'>\n",
    "<dt>The function checks that $ a, b $ are set so that $ \\lambda_1, \\lambda_2 $ are less than</dt>\n",
    "<dd>\n",
    "unity in absolute value (also called “modulus”)\n",
    "\n",
    "</dd>\n",
    "\n",
    "</dl>\n",
    "\n",
    "The function also tells us whether the roots are complex, and, if they are complex, returns both their real and complex parts\n",
    "\n",
    "If the roots are both real, the function returns their values\n",
    "\n",
    "We use our function written to simulate paths that are stochastic (when $ \\sigma >0 $)\n",
    "\n",
    "We have written the function in a way that allows us to input $ \\{G_t\\} $ paths of a few simple forms, e.g.,\n",
    "\n",
    "- one time jumps in $ G $ at some time  \n",
    "- a permanent jump in $ G $ that occurs at some time  \n",
    "\n",
    "\n",
    "We proceed to use the Samuelson multiplier-accererator model as a laboratory to make a simple OOP example\n",
    "\n",
    "The “state” that determines next period’s $ Y_{t+1} $ is now not just the current value $ Y_t $ but also the once lagged value $ Y_{t-1} $\n",
    "\n",
    "This involves a little more bookkeeping than is required in the Solow model class definition\n",
    "\n",
    "We use the Samuelson multiplier-accelerator model as a vehicle for teaching how we can gradually add more features to the class\n",
    "\n",
    "We want to have a method in the class that automatically generates a simulation, either nonstochastic ($ \\sigma=0 $) or stochastic ($ \\sigma > 0 $)\n",
    "\n",
    "We also show how to map the Samuelson model into a simple instance of the `LinearStateSpace` class described [here](linear_models.ipynb)\n",
    "\n",
    "We can use a `LinearStateSpace` instance to do various things that we did above with our homemade function and class\n",
    "\n",
    "Among other things, we show by example that the eigenvalues of the matrix $ A $ that we use to form the instance of the `LinearStateSpace` class for the Samuelson model equal the roots of the characteristic polynomial [(7)](#equation-polynomial) for the Samuelson multiplier accelerator model\n",
    "\n",
    "Here is the formula for the matrix $ A $ in the linear state space system in the case that government expenditures are a constant $ G $:\n",
    "\n",
    "$$\n",
    "A = \\begin{bmatrix} 1 & 0 & 0 \\cr\n",
    "                      \\gamma + G & \\rho_1 & \\rho_2 \\cr\n",
    "                      0 & 1 & 0 \\end{bmatrix}\n",
    "$$"
   ]
  },
  {
   "cell_type": "markdown",
   "metadata": {},
   "source": [
    "## Implementation\n",
    "\n",
    "We’ll start by drawing an informative graph from page 189 of [[Sar87]](zreferences.ipynb#sargent1987)"
   ]
  },
  {
   "cell_type": "code",
   "execution_count": 8,
   "metadata": {
    "hide-output": false,
    "html-class": "collapse"
   },
   "outputs": [
    {
     "data": {
      "image/png": "[encoded data removed]",
      "text/plain": [
       "<Figure size 720x432 with 1 Axes>"
      ]
     },
     "metadata": {},
     "output_type": "display_data"
    }
   ],
   "source": [
    "import numpy as np\n",
    "import matplotlib.pyplot as plt\n",
    "%matplotlib inline\n",
    "\n",
    "def param_plot():\n",
    "\n",
    "    \"\"\"this function creates the graph on page 189 of Sargent Macroeconomic Theory, second edition, 1987\"\"\"\n",
    "\n",
    "    fig, ax = plt.subplots(figsize=(10, 6))\n",
    "    ax.set_aspect('equal')\n",
    "\n",
    "    # Set axis\n",
    "    xmin, ymin = -3, -2\n",
    "    xmax, ymax = -xmin, -ymin\n",
    "    plt.axis([xmin, xmax, ymin, ymax])\n",
    "\n",
    "    # Set axis labels\n",
    "    ax.set(xticks=[], yticks=[])\n",
    "    ax.set_xlabel(r'$\\rho_2$', fontsize=16)\n",
    "    ax.xaxis.set_label_position('top')\n",
    "    ax.set_ylabel(r'$\\rho_1$', rotation=0, fontsize=16)\n",
    "    ax.yaxis.set_label_position('right')\n",
    "\n",
    "    # Draw (t1, t2) points\n",
    "    ρ1 = np.linspace(-2, 2, 100)\n",
    "    ax.plot(ρ1, -abs(ρ1) + 1, c='black')\n",
    "    ax.plot(ρ1, np.ones_like(ρ1) * -1, c='black')\n",
    "    ax.plot(ρ1, -(ρ1**2 / 4), c='black')\n",
    "\n",
    "    # Turn normal axes off\n",
    "    for spine in ['left', 'bottom', 'top', 'right']:\n",
    "        ax.spines[spine].set_visible(False)\n",
    "\n",
    "    # Add arrows to represent axes\n",
    "    axes_arrows = {'arrowstyle': '<|-|>', 'lw': 1.3}\n",
    "    ax.annotate('', xy=(xmin, 0), xytext=(xmax, 0), arrowprops=axes_arrows)\n",
    "    ax.annotate('', xy=(0, ymin), xytext=(0, ymax), arrowprops=axes_arrows)\n",
    "\n",
    "    # Annotate the plot with equations\n",
    "    plot_arrowsl = {'arrowstyle': '-|>', 'connectionstyle': \"arc3, rad=-0.2\"}\n",
    "    plot_arrowsr = {'arrowstyle': '-|>', 'connectionstyle': \"arc3, rad=0.2\"}\n",
    "    ax.annotate(r'$\\rho_1 + \\rho_2 < 1$', xy=(0.5, 0.3), xytext=(0.8, 0.6),\n",
    "                arrowprops=plot_arrowsr, fontsize='12')\n",
    "    ax.annotate(r'$\\rho_1 + \\rho_2 = 1$', xy=(0.38, 0.6), xytext=(0.6, 0.8),\n",
    "                arrowprops=plot_arrowsr, fontsize='12')\n",
    "    ax.annotate(r'$\\rho_2 < 1 + \\rho_1$', xy=(-0.5, 0.3), xytext=(-1.3, 0.6),\n",
    "                arrowprops=plot_arrowsl, fontsize='12')\n",
    "    ax.annotate(r'$\\rho_2 = 1 + \\rho_1$', xy=(-0.38, 0.6), xytext=(-1, 0.8),\n",
    "                arrowprops=plot_arrowsl, fontsize='12')\n",
    "    ax.annotate(r'$\\rho_2 = -1$', xy=(1.5, -1), xytext=(1.8, -1.3),\n",
    "                arrowprops=plot_arrowsl, fontsize='12')\n",
    "    ax.annotate(r'${\\rho_1}^2 + 4\\rho_2 = 0$', xy=(1.15, -0.35),\n",
    "                xytext=(1.5, -0.3), arrowprops=plot_arrowsr, fontsize='12')\n",
    "    ax.annotate(r'${\\rho_1}^2 + 4\\rho_2 < 0$', xy=(1.4, -0.7),\n",
    "                xytext=(1.8, -0.6), arrowprops=plot_arrowsr, fontsize='12')\n",
    "\n",
    "    # Label categories of solutions\n",
    "    ax.text(1.5, 1, 'Explosive\\n growth', ha='center', fontsize=16)\n",
    "    ax.text(-1.5, 1, 'Explosive\\n oscillations', ha='center', fontsize=16)\n",
    "    ax.text(0.05, -1.5, 'Explosive oscillations', ha='center', fontsize=16)\n",
    "    ax.text(0.09, -0.5, 'Damped oscillations', ha='center', fontsize=16)\n",
    "\n",
    "    # Add small marker to y-axis\n",
    "    ax.axhline(y=1.005, xmin=0.495, xmax=0.505, c='black')\n",
    "    ax.text(-0.12, -1.12, '-1', fontsize=10)\n",
    "    ax.text(-0.12, 0.98, '1', fontsize=10)\n",
    "\n",
    "    return fig\n",
    "\n",
    "param_plot()\n",
    "plt.show()"
   ]
  },
  {
   "cell_type": "markdown",
   "metadata": {},
   "source": [
    "The graph portrays regions in which the $ (\\lambda_1, \\lambda_2) $\n",
    "root pairs implied by the $ (\\rho_1 = (a+b), \\rho_2 = - b) $\n",
    "difference equation parameter pairs in the Samuelson model are such that:\n",
    "\n",
    "- $ (\\lambda_1, \\lambda_2) $ are complex with modulus less than\n",
    "  $ 1 $ - in this case, the $ \\{Y_t\\} $ sequence displays damped\n",
    "  oscillations  \n",
    "- $ (\\lambda_1, \\lambda_2) $ are both real, but one is strictly\n",
    "  greater than $ 1 $ - this leads to explosive growth  \n",
    "- $ (\\lambda_1, \\lambda_2) $ are both real, but one is strictly\n",
    "  less than $ -1 $ - this leads to explosive oscillations  \n",
    "- $ (\\lambda_1, \\lambda_2) $ are both real and both are less than\n",
    "  $ 1 $ in absolute value - in this case, there is smooth\n",
    "  convergence to the steady state without damped cycles  \n",
    "\n",
    "\n",
    "Later we’ll present the graph with a red mark showing the particular\n",
    "point implied by the setting of $ (a,b) $"
   ]
  },
  {
   "cell_type": "markdown",
   "metadata": {},
   "source": [
    "### Function to describe implications of characteristic polynomial"
   ]
  },
  {
   "cell_type": "code",
   "execution_count": 9,
   "metadata": {
    "hide-output": false
   },
   "outputs": [],
   "source": [
    "def categorize_solution(ρ1, ρ2):\n",
    "    \"\"\"this function takes values of ρ1 and ρ2 and uses them to classify the type of solution\"\"\"\n",
    "\n",
    "    discriminant = ρ1 ** 2 + 4 * ρ2\n",
    "    if ρ2 > 1 + ρ1 or ρ2 < -1:\n",
    "        print('Explosive oscillations')\n",
    "    elif ρ1 + ρ2 > 1:\n",
    "        print('Explosive growth')\n",
    "    elif discriminant < 0:\n",
    "        print('Roots are complex with modulus less than one; therefore damped oscillations')\n",
    "    else:\n",
    "        print('Roots are real and absolute values are less than zero; therefore get smooth convergence to a steady state')"
   ]
  },
  {
   "cell_type": "code",
   "execution_count": 10,
   "metadata": {
    "hide-output": false
   },
   "outputs": [
    {
     "name": "stdout",
     "output_type": "stream",
     "text": [
      "Roots are real and absolute values are less than zero; therefore get smooth convergence to a steady state\n"
     ]
    }
   ],
   "source": [
    "### Test the categorize_solution function\n",
    "\n",
    "categorize_solution(1.3, -.4)"
   ]
  },
  {
   "cell_type": "markdown",
   "metadata": {},
   "source": [
    "### Function for plotting $ Y_t $ paths\n",
    "\n",
    "A useful function for our work below"
   ]
  },
  {
   "cell_type": "code",
   "execution_count": 11,
   "metadata": {
    "hide-output": false
   },
   "outputs": [],
   "source": [
    "def plot_y(function=None):\n",
    "    \"\"\"function plots path of Y_t\"\"\"\n",
    "    plt.subplots(figsize=(10, 6))\n",
    "    plt.plot(function)\n",
    "    plt.xlabel('Time $t$')\n",
    "    plt.ylabel('$Y_t$', rotation=0)\n",
    "    plt.grid()\n",
    "    plt.show()"
   ]
  },
  {
   "cell_type": "markdown",
   "metadata": {},
   "source": [
    "### Manual or “by hand” root calculations\n",
    "\n",
    "The following function calculates roots of the characteristic polynomial\n",
    "using high school algebra\n",
    "\n",
    "(We’ll calculate the roots in other ways later)\n",
    "\n",
    "The function also plots a $ Y_t $ starting from initial conditions\n",
    "that we set"
   ]
  },
  {
   "cell_type": "code",
   "execution_count": 12,
   "metadata": {
    "hide-output": false
   },
   "outputs": [
    {
     "name": "stdout",
     "output_type": "stream",
     "text": [
      "ρ_1 is 1.42\n",
      "ρ_2 is -0.5\n",
      "Two real roots: \n",
      "[-0.6459687576256715, -0.7740312423743284]\n",
      "Absolute values of roots are less than one\n"
     ]
    },
    {
     "data": {
      "image/png": "[encoded data removed]",
      "text/plain": [
       "<Figure size 720x432 with 1 Axes>"
      ]
     },
     "metadata": {
      "needs_background": "light"
     },
     "output_type": "display_data"
    }
   ],
   "source": [
    "from cmath import sqrt\n",
    "\n",
    "##=== This is a 'manual' method ===#\n",
    "\n",
    "def y_nonstochastic(y_0=100, y_1=80, α=.92, β=.5, γ=10, n=80):\n",
    "\n",
    "    \"\"\"Takes values of parameters and computes roots of characteristic polynomial.\n",
    "       It tells whether they are real or complex and whether they are less than unity in absolute value.\n",
    "       It also computes a simulation of length n starting from the two given initial conditions for national income\"\"\"\n",
    "\n",
    "    roots = []\n",
    "\n",
    "    ρ1 = α + β\n",
    "    ρ2 = -β\n",
    "\n",
    "    print(f'ρ_1 is {ρ1}')\n",
    "    print(f'ρ_2 is {ρ2}')\n",
    "\n",
    "    discriminant = ρ1 ** 2 + 4 * ρ2\n",
    "\n",
    "    if discriminant == 0:\n",
    "        roots.append(-ρ1 / 2)\n",
    "        print('Single real root: ')\n",
    "        print(''.join(str(roots)))\n",
    "    elif discriminant > 0:\n",
    "        roots.append((-ρ1 + sqrt(discriminant).real) / 2)\n",
    "        roots.append((-ρ1 - sqrt(discriminant).real) / 2)\n",
    "        print('Two real roots: ')\n",
    "        print(''.join(str(roots)))\n",
    "    else:\n",
    "        roots.append((-ρ1 + sqrt(discriminant)) / 2)\n",
    "        roots.append((-ρ1 - sqrt(discriminant)) / 2)\n",
    "        print('Two complex roots: ')\n",
    "        print(''.join(str(roots)))\n",
    "\n",
    "    if all(abs(root) < 1 for root in roots):\n",
    "        print('Absolute values of roots are less than one')\n",
    "    else:\n",
    "        print('Absolute values of roots are not less than one')\n",
    "\n",
    "    def transition(x, t): return ρ1 * x[t - 1] + ρ2 * x[t - 2] + γ\n",
    "\n",
    "    y_t = [y_0, y_1]\n",
    "\n",
    "    for t in range(2, n):\n",
    "        y_t.append(transition(y_t, t))\n",
    "\n",
    "    return y_t\n",
    "\n",
    "plot_y(y_nonstochastic())"
   ]
  },
  {
   "cell_type": "markdown",
   "metadata": {},
   "source": [
    "### Reverse engineering parameters to generate damped cycles\n",
    "\n",
    "The next cell writes code that takes as inputs the modulus $ r $ and\n",
    "phase $ \\phi $ of a conjugate pair of complex numbers in polar form\n",
    "\n",
    "$$\n",
    "\\lambda_1 = r \\exp(i \\phi), \\quad \\lambda_2 = r \\exp(- i \\phi)\n",
    "$$\n",
    "\n",
    "- The code assumes that these two complex numbers are the roots of the\n",
    "  characteristic polynomial  \n",
    "- It then reverse engineers $ (a,b) $ and $ (\\rho_1, \\rho_2) $,\n",
    "  pairs that would generate those roots  "
   ]
  },
  {
   "cell_type": "code",
   "execution_count": 13,
   "metadata": {
    "hide-output": false
   },
   "outputs": [
    {
     "name": "stdout",
     "output_type": "stream",
     "text": [
      "a, b = (0.6346322893124001+0j), (0.9024999999999999-0j)\n",
      "ρ1, ρ2 = (1.5371322893124+0j), (-0.9024999999999999+0j)\n"
     ]
    }
   ],
   "source": [
    "### code to reverse engineer a  cycle\n",
    "### y_t = r^t (c_1 cos(ϕ t) + c2 sin(ϕ t))\n",
    "###\n",
    "\n",
    "import cmath\n",
    "import math\n",
    "\n",
    "def f(r, ϕ):\n",
    "    \"\"\"\n",
    "    Takes modulus r and angle ϕ of complex number r exp(j ϕ)\n",
    "    and creates ρ1 and ρ2 of characteristic polynomial for which\n",
    "    r exp(j ϕ) and r exp(- j ϕ) are complex roots.\n",
    "\n",
    "    Returns the multiplier coefficient a and the accelerator coefficient b\n",
    "    that verifies those roots.\n",
    "    \"\"\"\n",
    "    g1 = cmath.rect(r, ϕ)  # Generate two complex roots\n",
    "    g2 = cmath.rect(r, -ϕ)\n",
    "    ρ1 = g1 + g2           # Implied ρ1, ρ2\n",
    "    ρ2 = -g1 * g2\n",
    "    b = -ρ2                # Reverse engineer a and b that validate these\n",
    "    a = ρ1 - b\n",
    "    return ρ1, ρ2, a, b\n",
    "\n",
    "## Now let's use the function in an example\n",
    "## Here are the example paramters\n",
    "\n",
    "r = .95\n",
    "period = 10                # Length of cycle in units of time\n",
    "ϕ = 2 * math.pi/period\n",
    "\n",
    "## Apply the function\n",
    "\n",
    "ρ1, ρ2, a, b = f(r, ϕ)\n",
    "\n",
    "print(f\"a, b = {a}, {b}\")\n",
    "print(f\"ρ1, ρ2 = {ρ1}, {ρ2}\")"
   ]
  },
  {
   "cell_type": "code",
   "execution_count": 14,
   "metadata": {
    "hide-output": false
   },
   "outputs": [
    {
     "data": {
      "text/plain": [
       "(1.5371322893124, -0.9024999999999999)"
      ]
     },
     "execution_count": 14,
     "metadata": {},
     "output_type": "execute_result"
    }
   ],
   "source": [
    "## Print the real components of ρ1 and ρ2\n",
    "\n",
    "ρ1 = ρ1.real\n",
    "ρ2 = ρ2.real\n",
    "\n",
    "ρ1, ρ2"
   ]
  },
  {
   "cell_type": "markdown",
   "metadata": {},
   "source": [
    "### Root finding using numpy\n",
    "\n",
    "Here we’ll use numpy to compute the roots of the characteristic\n",
    "polynomial"
   ]
  },
  {
   "cell_type": "code",
   "execution_count": 15,
   "metadata": {
    "hide-output": false
   },
   "outputs": [
    {
     "name": "stdout",
     "output_type": "stream",
     "text": [
      "r, ϕ = 0.95, 0.6283185307179586\n",
      "p1, p2 = (0.95, 0.6283185307179586), (0.95, -0.6283185307179586)\n",
      "a, b = (0.6346322893124001+0j), (0.9024999999999999-0j)\n",
      "ρ1, ρ2 = 1.5371322893124, -0.9024999999999999\n"
     ]
    }
   ],
   "source": [
    "r1, r2 = np.roots([1, -ρ1, -ρ2])\n",
    "\n",
    "p1 = cmath.polar(r1)\n",
    "p2 = cmath.polar(r2)\n",
    "\n",
    "print(f\"r, ϕ = {r}, {ϕ}\")\n",
    "print(f\"p1, p2 = {p1}, {p2}\")\n",
    "# print(f\"g1, g2 = {g1}, {g2}\")\n",
    "\n",
    "print(f\"a, b = {a}, {b}\")\n",
    "print(f\"ρ1, ρ2 = {ρ1}, {ρ2}\")"
   ]
  },
  {
   "cell_type": "code",
   "execution_count": 16,
   "metadata": {
    "hide-output": false
   },
   "outputs": [
    {
     "name": "stdout",
     "output_type": "stream",
     "text": [
      "Roots are complex with modulus less than one; therefore damped oscillations\n",
      "Roots are [0.85+0.27838822j 0.85-0.27838822j]\n",
      "Roots are complex\n",
      "Roots are less than one\n"
     ]
    },
    {
     "data": {
      "image/png": "[encoded data removed]",
      "text/plain": [
       "<Figure size 720x432 with 1 Axes>"
      ]
     },
     "metadata": {
      "needs_background": "light"
     },
     "output_type": "display_data"
    }
   ],
   "source": [
    "##=== This method uses numpy to calculate roots ===#\n",
    "\n",
    "\n",
    "def y_nonstochastic(y_0=100, y_1=80, α=.9, β=.8, γ=10, n=80):\n",
    "\n",
    "    \"\"\" Rather than computing the roots of the characteristic polynomial by hand as we did earlier, this function\n",
    "    enlists numpy to do the work for us \"\"\"\n",
    "\n",
    "    # Useful constants\n",
    "    ρ1 = α + β\n",
    "    ρ2 = -β\n",
    "\n",
    "    categorize_solution(ρ1, ρ2)\n",
    "\n",
    "    # Find roots of polynomial\n",
    "    roots = np.roots([1, -ρ1, -ρ2])\n",
    "    print(f'Roots are {roots}')\n",
    "\n",
    "    # Check if real or complex\n",
    "    if all(isinstance(root, complex) for root in roots):\n",
    "        print('Roots are complex')\n",
    "    else:\n",
    "        print('Roots are real')\n",
    "\n",
    "    # Check if roots are less than one\n",
    "    if all(abs(root) < 1 for root in roots):\n",
    "        print('Roots are less than one')\n",
    "    else:\n",
    "        print('Roots are not less than one')\n",
    "\n",
    "    # Define transition equation\n",
    "    def transition(x, t): return ρ1 * x[t - 1] + ρ2 * x[t - 2] + γ\n",
    "\n",
    "    # Set initial conditions\n",
    "    y_t = [y_0, y_1]\n",
    "\n",
    "    # Generate y_t series\n",
    "    for t in range(2, n):\n",
    "        y_t.append(transition(y_t, t))\n",
    "\n",
    "    return y_t\n",
    "\n",
    "plot_y(y_nonstochastic())"
   ]
  },
  {
   "cell_type": "markdown",
   "metadata": {},
   "source": [
    "### Reverse engineered complex roots: example\n",
    "\n",
    "The next cell studies the implications of reverse engineered complex\n",
    "roots\n",
    "\n",
    "We’ll generate an **undamped** cycle of period 10"
   ]
  },
  {
   "cell_type": "code",
   "execution_count": 17,
   "metadata": {
    "hide-output": false
   },
   "outputs": [
    {
     "name": "stdout",
     "output_type": "stream",
     "text": [
      "a, b = 0.6180339887498949, 1.0\n",
      "Roots are complex with modulus less than one; therefore damped oscillations\n",
      "Roots are [0.80901699+0.58778525j 0.80901699-0.58778525j]\n",
      "Roots are complex\n",
      "Roots are less than one\n"
     ]
    },
    {
     "data": {
      "image/png": "[encoded data removed]",
      "text/plain": [
       "<Figure size 720x432 with 1 Axes>"
      ]
     },
     "metadata": {
      "needs_background": "light"
     },
     "output_type": "display_data"
    }
   ],
   "source": [
    "r = 1   # generates undamped, nonexplosive cycles\n",
    "\n",
    "period = 10   #  length of cycle in units of time\n",
    "ϕ = 2 * math.pi/period\n",
    "\n",
    "## Apply the reverse engineering function f\n",
    "\n",
    "ρ1, ρ2, a, b = f(r, ϕ)\n",
    "\n",
    "a = a.real  # drop the imaginary part so that it is a valid input into y_nonstochastic\n",
    "b = b.real\n",
    "\n",
    "print(f\"a, b = {a}, {b}\")\n",
    "\n",
    "ytemp = y_nonstochastic(α=a, β=b, y_0=20, y_1=30)\n",
    "plot_y(ytemp)"
   ]
  },
  {
   "cell_type": "markdown",
   "metadata": {},
   "source": [
    "### Digression: using sympy to find roots\n",
    "\n",
    "We can also use sympy to compute analytic formulas for the roots"
   ]
  },
  {
   "cell_type": "code",
   "execution_count": 3,
   "metadata": {
    "hide-output": false
   },
   "outputs": [
    {
     "data": {
      "image/png": "[encoded data removed]",
      "text/latex": [
       "$$\\left [ \\frac{ρ_{1}}{2} - \\frac{\\sqrt{ρ_{1}^{2} + 4 ρ_{2}}}{2}, \\quad \\frac{ρ_{1}}{2} + \\frac{\\sqrt{ρ_{1}^{2} + 4 ρ_{2}}}{2}\\right ]$$"
      ],
      "text/plain": [
       "⎡        ____________          ____________⎤\n",
       "⎢       ╱   2                 ╱   2        ⎥\n",
       "⎢ρ₁   ╲╱  ρ₁  + 4⋅ρ₂   ρ₁   ╲╱  ρ₁  + 4⋅ρ₂ ⎥\n",
       "⎢── - ───────────────, ── + ───────────────⎥\n",
       "⎣2           2         2           2       ⎦"
      ]
     },
     "execution_count": 3,
     "metadata": {},
     "output_type": "execute_result"
    }
   ],
   "source": [
    "import sympy\n",
    "from sympy import Symbol, init_printing\n",
    "init_printing()\n",
    "\n",
    "r1 = Symbol(\"ρ_1\")\n",
    "r2 = Symbol(\"ρ_2\")\n",
    "z = Symbol(\"z\")\n",
    "\n",
    "sympy.solve(z**2 - r1*z - r2, z)"
   ]
  },
  {
   "cell_type": "markdown",
   "metadata": {},
   "source": [
    "$$\n",
    "\\left [ \\frac{\\rho_{1}}{2} - \\frac{1}{2} \\sqrt{\\rho_{1}^{2} + 4 \\rho_{2}},\n",
    "\\quad \\frac{\\rho_{1}}{2} + \\frac{1}{2} \\sqrt{\\rho_{1}^{2} + 4 \\rho_{2}}\\right ]\n",
    "$$"
   ]
  },
  {
   "cell_type": "code",
   "execution_count": 4,
   "metadata": {
    "hide-output": false
   },
   "outputs": [
    {
     "data": {
      "image/png": "[encoded data removed]",
      "text/latex": [
       "$$\\left [ \\frac{α}{2} + \\frac{β}{2} - \\frac{\\sqrt{α^{2} + 2 α β + β^{2} - 4 β}}{2}, \\quad \\frac{α}{2} + \\frac{β}{2} + \\frac{\\sqrt{α^{2} + 2 α β + β^{2} - 4 β}}{2}\\right ]$$"
      ],
      "text/plain": [
       "⎡           _______________________             _______________________⎤\n",
       "⎢          ╱  2            2                   ╱  2            2       ⎥\n",
       "⎢α   β   ╲╱  α  + 2⋅α⋅β + β  - 4⋅β   α   β   ╲╱  α  + 2⋅α⋅β + β  - 4⋅β ⎥\n",
       "⎢─ + ─ - ──────────────────────────, ─ + ─ + ──────────────────────────⎥\n",
       "⎣2   2               2               2   2               2             ⎦"
      ]
     },
     "execution_count": 4,
     "metadata": {},
     "output_type": "execute_result"
    }
   ],
   "source": [
    "a = Symbol(\"α\")\n",
    "b = Symbol(\"β\")\n",
    "r1 = a + b\n",
    "r2 = -b\n",
    "\n",
    "sympy.solve(z**2 - r1*z - r2, z)"
   ]
  },
  {
   "cell_type": "markdown",
   "metadata": {},
   "source": [
    "$$\n",
    "\\left [ \\frac{\\alpha}{2} + \\frac{\\beta}{2} - \\frac{1}{2} \\sqrt{\\alpha^{2} +\n",
    "2 \\alpha \\beta + \\beta^{2} - 4 \\beta}, \\quad \\frac{\\alpha}{2} +\n",
    "\\frac{\\beta}{2} + \\frac{1}{2} \\sqrt{\\alpha^{2} + 2 \\alpha \\beta +\n",
    "\\beta^{2} - 4 \\beta}\\right ]\n",
    "$$"
   ]
  },
  {
   "cell_type": "raw",
   "metadata": {},
   "source": [
    "## Stochastic shocks\n",
    "\n",
    "Now we’ll construct some code to simulate the stochastic version of the\n",
    "model that emerges when we add a random shock process to aggregate\n",
    "demand"
   ]
  },
  {
   "cell_type": "code",
   "execution_count": 21,
   "metadata": {
    "hide-output": false
   },
   "outputs": [
    {
     "name": "stdout",
     "output_type": "stream",
     "text": [
      "Roots are real and absolute values are less than zero; therefore get smooth convergence to a steady state\n",
      "[0.7236068 0.2763932]\n",
      "Roots are real\n",
      "Roots are less than one\n"
     ]
    },
    {
     "data": {
      "image/png": "[encoded data removed]",
      "text/plain": [
       "<Figure size 720x432 with 1 Axes>"
      ]
     },
     "metadata": {
      "needs_background": "light"
     },
     "output_type": "display_data"
    }
   ],
   "source": [
    "def y_stochastic(y_0=0, y_1=0, α=0.8, β=0.2, γ=10, n=100, σ=5):\n",
    "\n",
    "    \"\"\"This function takes parameters of a stochastic version of the model and proceeds to analyze\n",
    "    the roots of the characteristic polynomial and also generate a simulation\"\"\"\n",
    "\n",
    "    # Useful constants\n",
    "    ρ1 = α + β\n",
    "    ρ2 = -β\n",
    "\n",
    "    # Categorize solution\n",
    "    categorize_solution(ρ1, ρ2)\n",
    "\n",
    "    # Find roots of polynomial\n",
    "    roots = np.roots([1, -ρ1, -ρ2])\n",
    "    print(roots)\n",
    "\n",
    "    # Check if real or complex\n",
    "    if all(isinstance(root, complex) for root in roots):\n",
    "        print('Roots are complex')\n",
    "    else:\n",
    "        print('Roots are real')\n",
    "\n",
    "    # Check if roots are less than one\n",
    "    if all(abs(root) < 1 for root in roots):\n",
    "        print('Roots are less than one')\n",
    "    else:\n",
    "        print('Roots are not less than one')\n",
    "\n",
    "    # Generate shocks\n",
    "    ϵ = np.random.normal(0, 1, n)\n",
    "\n",
    "    # Define transition equation\n",
    "    def transition(x, t): return ρ1 * \\\n",
    "        x[t - 1] + ρ2 * x[t - 2] + γ + σ * ϵ[t]\n",
    "\n",
    "    # Set initial conditions\n",
    "    y_t = [y_0, y_1]\n",
    "\n",
    "    # Generate y_t series\n",
    "    for t in range(2, n):\n",
    "        y_t.append(transition(y_t, t))\n",
    "\n",
    "    return y_t\n",
    "\n",
    "plot_y(y_stochastic())"
   ]
  },
  {
   "cell_type": "markdown",
   "metadata": {},
   "source": [
    "Let’s do a simulation in which there are shocks and the characteristic polynomial has complex roots"
   ]
  },
  {
   "cell_type": "code",
   "execution_count": 22,
   "metadata": {
    "hide-output": false
   },
   "outputs": [
    {
     "name": "stdout",
     "output_type": "stream",
     "text": [
      "a, b = 0.6285929690873979, 0.9409000000000001\n",
      "Roots are complex with modulus less than one; therefore damped oscillations\n",
      "[0.78474648+0.57015169j 0.78474648-0.57015169j]\n",
      "Roots are complex\n",
      "Roots are less than one\n"
     ]
    },
    {
     "data": {
      "image/png": "[encoded data removed]",
      "text/plain": [
       "<Figure size 720x432 with 1 Axes>"
      ]
     },
     "metadata": {
      "needs_background": "light"
     },
     "output_type": "display_data"
    }
   ],
   "source": [
    "r = .97\n",
    "\n",
    "period = 10   #  length of cycle in units of time\n",
    "ϕ = 2 * math.pi/period\n",
    "\n",
    "### apply the  reverse engineering function f\n",
    "\n",
    "ρ1, ρ2, a, b = f(r, ϕ)\n",
    "\n",
    "a = a.real  # drop the imaginary part so that it is a valid input into y_nonstochastic\n",
    "b = b.real\n",
    "\n",
    "print(f\"a, b = {a}, {b}\")\n",
    "plot_y(y_stochastic(y_0=40, y_1 = 42, α=a, β=b, σ=2, n=100))"
   ]
  },
  {
   "cell_type": "markdown",
   "metadata": {},
   "source": [
    "## Government spending\n",
    "\n",
    "This function computes a response to either a permanent or one-off increase\n",
    "in government expenditures"
   ]
  },
  {
   "cell_type": "code",
   "execution_count": 23,
   "metadata": {
    "hide-output": false
   },
   "outputs": [],
   "source": [
    "def y_stochastic_g(y_0=20,\n",
    "                   y_1=20,\n",
    "                   α=0.8,\n",
    "                   β=0.2,\n",
    "                   γ=10,\n",
    "                   n=100,\n",
    "                   σ=2,\n",
    "                   g=0,\n",
    "                   g_t=0,\n",
    "                   duration='permanent'):\n",
    "\n",
    "    \"\"\"This program computes a response to a permanent increase in government expenditures that occurs\n",
    "       at time 20\"\"\"\n",
    "\n",
    "    # Useful constants\n",
    "    ρ1 = α + β\n",
    "    ρ2 = -β\n",
    "\n",
    "    # Categorize solution\n",
    "    categorize_solution(ρ1, ρ2)\n",
    "\n",
    "    # Find roots of polynomial\n",
    "    roots = np.roots([1, -ρ1, -ρ2])\n",
    "    print(roots)\n",
    "\n",
    "    # Check if real or complex\n",
    "    if all(isinstance(root, complex) for root in roots):\n",
    "        print('Roots are complex')\n",
    "    else:\n",
    "        print('Roots are real')\n",
    "\n",
    "    # Check if roots are less than one\n",
    "    if all(abs(root) < 1 for root in roots):\n",
    "        print('Roots are less than one')\n",
    "    else:\n",
    "        print('Roots are not less than one')\n",
    "\n",
    "    # Generate shocks\n",
    "    ϵ = np.random.normal(0, 1, n)\n",
    "\n",
    "    def transition(x, t, g):\n",
    "\n",
    "        # Non-stochastic - separated to avoid generating random series when not needed\n",
    "        if σ == 0:\n",
    "            return ρ1 * x[t - 1] + ρ2 * x[t - 2] + γ + g\n",
    "\n",
    "        # Stochastic\n",
    "        else:\n",
    "            ϵ = np.random.normal(0, 1, n)\n",
    "            return ρ1 * x[t - 1] + ρ2 * x[t - 2] + γ + g + σ * ϵ[t]\n",
    "\n",
    "    # Create list and set initial conditions\n",
    "    y_t = [y_0, y_1]\n",
    "\n",
    "    # Generate y_t series\n",
    "    for t in range(2, n):\n",
    "\n",
    "        # No government spending\n",
    "        if g == 0:\n",
    "            y_t.append(transition(y_t, t))\n",
    "\n",
    "        # Government spending (no shock)\n",
    "        elif g != 0 and duration == None:\n",
    "            y_t.append(transition(y_t, t))\n",
    "\n",
    "        # Permanent government spending shock\n",
    "        elif duration == 'permanent':\n",
    "            if t < g_t:\n",
    "                y_t.append(transition(y_t, t, g=0))\n",
    "            else:\n",
    "                y_t.append(transition(y_t, t, g=g))\n",
    "\n",
    "        # One-off government spending shock\n",
    "        elif duration == 'one-off':\n",
    "            if t == g_t:\n",
    "                y_t.append(transition(y_t, t, g=g))\n",
    "            else:\n",
    "                y_t.append(transition(y_t, t, g=0))\n",
    "    return y_t"
   ]
  },
  {
   "cell_type": "markdown",
   "metadata": {},
   "source": [
    "A permanent government spending shock can be simulated as follows"
   ]
  },
  {
   "cell_type": "code",
   "execution_count": 24,
   "metadata": {
    "hide-output": false
   },
   "outputs": [
    {
     "name": "stdout",
     "output_type": "stream",
     "text": [
      "Roots are real and absolute values are less than zero; therefore get smooth convergence to a steady state\n",
      "[0.7236068 0.2763932]\n",
      "Roots are real\n",
      "Roots are less than one\n"
     ]
    },
    {
     "data": {
      "image/png": "[encoded data removed]",
      "text/plain": [
       "<Figure size 720x432 with 1 Axes>"
      ]
     },
     "metadata": {
      "needs_background": "light"
     },
     "output_type": "display_data"
    }
   ],
   "source": [
    "plot_y(y_stochastic_g(g=10, g_t=20, duration='permanent'))"
   ]
  },
  {
   "cell_type": "markdown",
   "metadata": {},
   "source": [
    "We can also see the response to a one time jump in government expenditures"
   ]
  },
  {
   "cell_type": "code",
   "execution_count": 25,
   "metadata": {
    "hide-output": false
   },
   "outputs": [
    {
     "name": "stdout",
     "output_type": "stream",
     "text": [
      "Roots are real and absolute values are less than zero; therefore get smooth convergence to a steady state\n",
      "[0.7236068 0.2763932]\n",
      "Roots are real\n",
      "Roots are less than one\n"
     ]
    },
    {
     "data": {
      "image/png": "[encoded data removed]",
      "text/plain": [
       "<Figure size 720x432 with 1 Axes>"
      ]
     },
     "metadata": {
      "needs_background": "light"
     },
     "output_type": "display_data"
    }
   ],
   "source": [
    "plot_y(y_stochastic_g(g=500, g_t=50, duration='one-off'))"
   ]
  },
  {
   "cell_type": "markdown",
   "metadata": {},
   "source": [
    "## Wrapping everything into a class\n",
    "\n",
    "Up to now we have written functions to do the work\n",
    "\n",
    "Now we’ll roll up our sleeves and write a Python class called `Samuelson`\n",
    "for the Samuleson model"
   ]
  },
  {
   "cell_type": "code",
   "execution_count": 26,
   "metadata": {
    "hide-output": false
   },
   "outputs": [],
   "source": [
    "class Samuelson():\n",
    "\n",
    "    r\"\"\"This class represents the Samuelson model, otherwise known as the\n",
    "    multiple-accelerator model. The model combines the Keynesian multiplier\n",
    "    with the accelerator theory of investment.\n",
    "\n",
    "    The path of output is governed by a linear second-order difference equation\n",
    "\n",
    "    .. math::\n",
    "\n",
    "        Y_t =  + \\alpha (1 + \\beta) Y_{t-1} - \\alpha \\beta Y_{t-2}\n",
    "\n",
    "    Parameters\n",
    "    ----------\n",
    "    y_0 : scalar\n",
    "        Initial condition for Y_0\n",
    "    y_1 : scalar\n",
    "        Initial condition for Y_1\n",
    "    α : scalar\n",
    "        Marginal propensity to consume\n",
    "    β : scalar\n",
    "        Accelerator coefficient\n",
    "    n : int\n",
    "        Number of iterations\n",
    "    σ : scalar\n",
    "        Volatility parameter. Must be greater than or equal to 0. Set\n",
    "        equal to 0 for non-stochastic model.\n",
    "    g : scalar\n",
    "        Government spending shock\n",
    "    g_t : int\n",
    "        Time at which government spending shock occurs. Must be specified\n",
    "        when duration != None.\n",
    "    duration : {None, 'permanent', 'one-off'}\n",
    "        Specifies type of government spending shock. If none, government\n",
    "        spending equal to g for all t.\n",
    "\n",
    "    \"\"\"\n",
    "\n",
    "    def __init__(self,\n",
    "                 y_0=100,\n",
    "                 y_1=50,\n",
    "                 α=1.3,\n",
    "                 β=0.2,\n",
    "                 γ=10,\n",
    "                 n=100,\n",
    "                 σ=0,\n",
    "                 g=0,\n",
    "                 g_t=0,\n",
    "                 duration=None):\n",
    "\n",
    "        self.y_0, self.y_1, self.α, self.β = y_0, y_1, α, β\n",
    "        self.n, self.g, self.g_t, self.duration = n, g, g_t, duration\n",
    "        self.γ, self.σ = γ, σ\n",
    "        self.ρ1 = α + β\n",
    "        self.ρ2 = -β\n",
    "        self.roots = np.roots([1, -self.ρ1, -self.ρ2])\n",
    "\n",
    "    def root_type(self):\n",
    "        if all(isinstance(root, complex) for root in self.roots):\n",
    "            return 'Complex conjugate'\n",
    "        elif len(self.roots) > 1:\n",
    "            return 'Double real'\n",
    "        else:\n",
    "            return 'Single real'\n",
    "\n",
    "    def root_less_than_one(self):\n",
    "        if all(abs(root) < 1 for root in self.roots):\n",
    "            return True\n",
    "\n",
    "    def solution_type(self):\n",
    "        ρ1, ρ2 = self.ρ1, self.ρ2\n",
    "        discriminant = ρ1 ** 2 + 4 * ρ2\n",
    "        if ρ2 >= 1 + ρ1 or ρ2 <= -1:\n",
    "            return 'Explosive oscillations'\n",
    "        elif ρ1 + ρ2 >= 1:\n",
    "            return 'Explosive growth'\n",
    "        elif discriminant < 0:\n",
    "            return 'Damped oscillations'\n",
    "        else:\n",
    "            return 'Steady state'\n",
    "\n",
    "    def _transition(self, x, t, g):\n",
    "\n",
    "        # Non-stochastic - separated to avoid generating random series when not needed\n",
    "        if self.σ == 0:\n",
    "            return self.ρ1 * x[t - 1] + self.ρ2 * x[t - 2] + self.γ + g\n",
    "\n",
    "        # Stochastic\n",
    "        else:\n",
    "            ϵ = np.random.normal(0, 1, self.n)\n",
    "            return self.ρ1 * x[t - 1] + self.ρ2 * x[t - 2] + self.γ + g + self.σ * ϵ[t]\n",
    "\n",
    "    def generate_series(self):\n",
    "\n",
    "        # Create list and set initial conditions\n",
    "        y_t = [self.y_0, self.y_1]\n",
    "\n",
    "        # Generate y_t series\n",
    "        for t in range(2, self.n):\n",
    "\n",
    "            # No government spending\n",
    "            if self.g == 0:\n",
    "                y_t.append(self._transition(y_t, t))\n",
    "\n",
    "            # Government spending (no shock)\n",
    "            elif self.g != 0 and self.duration == None:\n",
    "                y_t.append(self._transition(y_t, t))\n",
    "\n",
    "            # Permanent government spending shock\n",
    "            elif self.duration == 'permanent':\n",
    "                if t < self.g_t:\n",
    "                    y_t.append(self._transition(y_t, t, g=0))\n",
    "                else:\n",
    "                    y_t.append(self._transition(y_t, t, g=self.g))\n",
    "\n",
    "            # One-off government spending shock\n",
    "            elif self.duration == 'one-off':\n",
    "                if t == self.g_t:\n",
    "                    y_t.append(self._transition(y_t, t, g=self.g))\n",
    "                else:\n",
    "                    y_t.append(self._transition(y_t, t, g=0))\n",
    "        return y_t\n",
    "\n",
    "    def summary(self):\n",
    "        print('Summary\\n' + '-' * 50)\n",
    "        print(f'Root type: {self.root_type()}')\n",
    "        print(f'Solution type: {self.solution_type()}')\n",
    "        print(f'Roots: {str(self.roots)}')\n",
    "\n",
    "        if self.root_less_than_one() == True:\n",
    "            print('Absolute value of roots is less than one')\n",
    "        else:\n",
    "            print('Absolute value of roots is not less than one')\n",
    "\n",
    "        if self.σ > 0:\n",
    "            print('Stochastic series with σ = ' + str(self.σ))\n",
    "        else:\n",
    "            print('Non-stochastic series')\n",
    "\n",
    "        if self.g != 0:\n",
    "            print('Government spending equal to ' + str(self.g))\n",
    "\n",
    "        if self.duration != None:\n",
    "            print(self.duration.capitalize() +\n",
    "                  ' government spending shock at t = ' + str(self.g_t))\n",
    "\n",
    "    def plot(self):\n",
    "        fig, ax = plt.subplots(figsize=(10, 6))\n",
    "        ax.plot(self.generate_series())\n",
    "        ax.set(xlabel='Iteration', xlim=(0, self.n))\n",
    "        ax.set_ylabel('$Y_t$', rotation=0)\n",
    "        ax.grid()\n",
    "\n",
    "        # Add parameter values to plot\n",
    "        paramstr = f'$\\\\alpha={self.α:.2f}$ \\n $\\\\beta={self.β:.2f}$ \\n $\\\\gamma={self.γ:.2f}$ \\n \\\n",
    "$\\\\sigma={self.σ:.2f}$ \\n $\\\\rho_1={self.ρ1:.2f}$ \\n $\\\\rho_2={self.ρ2:.2f}$'\n",
    "        props = dict(fc='white', pad=10, alpha=0.5)\n",
    "        ax.text(0.87, 0.05, paramstr, transform=ax.transAxes,\n",
    "                fontsize=12, bbox=props, va='bottom')\n",
    "\n",
    "        return fig\n",
    "\n",
    "    def param_plot(self):\n",
    "\n",
    "        # Uses the param_plot() function defined earlier (it is then able\n",
    "        # to be used standalone or as part of the model)\n",
    "\n",
    "        fig = param_plot()\n",
    "        ax = fig.gca()\n",
    "\n",
    "        # Add λ values to legend\n",
    "        for i, root in enumerate(self.roots):\n",
    "            if isinstance(root, complex):\n",
    "                operator = ['+', '']  # Need to fill operator for positive as string is split apart\n",
    "                label = rf'$\\lambda_{i+1} = {sam.roots[i].real:.2f} {operator[i]} {sam.roots[i].imag:.2f}i$'\n",
    "            else:\n",
    "                label = rf'$\\lambda_{i+1} = {sam.roots[i].real:.2f}$'\n",
    "            ax.scatter(0, 0, 0, label=label) # dummy to add to legend\n",
    "\n",
    "        # Add ρ pair to plot\n",
    "        ax.scatter(self.ρ1, self.ρ2, 100, 'red', '+', label=r'$(\\ \\rho_1, \\ \\rho_2 \\ )$', zorder=5)\n",
    "\n",
    "        plt.legend(fontsize=12, loc=3)\n",
    "\n",
    "        return fig"
   ]
  },
  {
   "cell_type": "markdown",
   "metadata": {},
   "source": [
    "### Illustration of Samuelson class\n",
    "\n",
    "Now we’ll put our Samuelson class to work on an example"
   ]
  },
  {
   "cell_type": "code",
   "execution_count": 27,
   "metadata": {
    "hide-output": false
   },
   "outputs": [
    {
     "name": "stdout",
     "output_type": "stream",
     "text": [
      "Summary\n",
      "--------------------------------------------------\n",
      "Root type: Complex conjugate\n",
      "Solution type: Damped oscillations\n",
      "Roots: [0.65+0.27838822j 0.65-0.27838822j]\n",
      "Absolute value of roots is less than one\n",
      "Stochastic series with σ = 2\n",
      "Government spending equal to 10\n",
      "Permanent government spending shock at t = 20\n"
     ]
    }
   ],
   "source": [
    "sam = Samuelson(α=0.8, β=0.5, σ=2, g=10, g_t=20, duration='permanent')\n",
    "sam.summary()"
   ]
  },
  {
   "cell_type": "code",
   "execution_count": 28,
   "metadata": {
    "hide-output": false
   },
   "outputs": [
    {
     "data": {
      "image/png": "[encoded data removed]",
      "text/plain": [
       "<Figure size 720x432 with 1 Axes>"
      ]
     },
     "metadata": {
      "needs_background": "light"
     },
     "output_type": "display_data"
    }
   ],
   "source": [
    "sam.plot()\n",
    "plt.show()"
   ]
  },
  {
   "cell_type": "markdown",
   "metadata": {},
   "source": [
    "### Using the graph\n",
    "\n",
    "We’ll use our graph to show where the roots lie and how their location\n",
    "is consistent with the behavior of the path just graphed\n",
    "\n",
    "The red $+$ sign shows the location of the roots"
   ]
  },
  {
   "cell_type": "code",
   "execution_count": 29,
   "metadata": {
    "hide-output": false
   },
   "outputs": [
    {
     "data": {
      "image/png": "[encoded data removed]",
      "text/plain": [
       "<Figure size 720x432 with 1 Axes>"
      ]
     },
     "metadata": {},
     "output_type": "display_data"
    }
   ],
   "source": [
    "sam.param_plot()\n",
    "plt.show()"
   ]
  },
  {
   "cell_type": "markdown",
   "metadata": {},
   "source": [
    "## Using the LinearStateSpace class\n",
    "\n",
    "It turns out that we can use the [QuantEcon.py](http://quantecon.org/python_index.html)\n",
    "[LinearStateSpace](https://github.com/QuantEcon/QuantEcon.py/blob/master/quantecon/lss.py) class to do\n",
    "much of the work that we have done from scratch above\n",
    "\n",
    "Here is how we map the Samuelson model into an instance of a\n",
    "LinearStateSpace class"
   ]
  },
  {
   "cell_type": "code",
   "execution_count": 5,
   "metadata": {
    "hide-output": false
   },
   "outputs": [
    {
     "ename": "ModuleNotFoundError",
     "evalue": "No module named 'quantecon'",
     "output_type": "error",
     "traceback": [
      "\u001b[1;31m---------------------------------------------------------------------------\u001b[0m",
      "\u001b[1;31mModuleNotFoundError\u001b[0m                       Traceback (most recent call last)",
      "\u001b[1;32m<ipython-input-5-cedf98dd6b66>\u001b[0m in \u001b[0;36m<module>\u001b[1;34m\u001b[0m\n\u001b[1;32m----> 1\u001b[1;33m \u001b[1;32mfrom\u001b[0m \u001b[0mquantecon\u001b[0m \u001b[1;32mimport\u001b[0m \u001b[0mLinearStateSpace\u001b[0m\u001b[1;33m\u001b[0m\u001b[1;33m\u001b[0m\u001b[0m\n\u001b[0m\u001b[0;32m      2\u001b[0m \u001b[1;33m\u001b[0m\u001b[0m\n\u001b[0;32m      3\u001b[0m \u001b[1;34m\"\"\" This script maps the Samuelson model in the the LinearStateSpace class\"\"\"\u001b[0m\u001b[1;33m\u001b[0m\u001b[1;33m\u001b[0m\u001b[0m\n\u001b[0;32m      4\u001b[0m \u001b[0mα\u001b[0m \u001b[1;33m=\u001b[0m \u001b[1;36m0.8\u001b[0m\u001b[1;33m\u001b[0m\u001b[1;33m\u001b[0m\u001b[0m\n\u001b[0;32m      5\u001b[0m \u001b[0mβ\u001b[0m \u001b[1;33m=\u001b[0m \u001b[1;36m0.9\u001b[0m\u001b[1;33m\u001b[0m\u001b[1;33m\u001b[0m\u001b[0m\n",
      "\u001b[1;31mModuleNotFoundError\u001b[0m: No module named 'quantecon'"
     ]
    }
   ],
   "source": [
    "from quantecon import LinearStateSpace\n",
    "\n",
    "\"\"\" This script maps the Samuelson model in the the LinearStateSpace class\"\"\"\n",
    "α = 0.8\n",
    "β = 0.9\n",
    "ρ1 = α + β\n",
    "ρ2 = -β\n",
    "γ = 10\n",
    "σ = 1\n",
    "g = 10\n",
    "n = 100\n",
    "\n",
    "A = [[1,        0,      0],\n",
    "     [γ + g,   ρ1,     ρ2],\n",
    "     [0,        1,      0]]\n",
    "\n",
    "G = [[γ + g, ρ1,   ρ2],         # this is Y_{t+1}\n",
    "     [γ,      α,    0],         # this is C_{t+1}\n",
    "     [0,      β,   -β]]         # this is I_{t+1}\n",
    "\n",
    "μ_0 = [1, 100, 100]\n",
    "C = np.zeros((3,1))\n",
    "C[1] = σ # stochastic\n",
    "\n",
    "sam_t = LinearStateSpace(A, C, G, mu_0=μ_0)\n",
    "\n",
    "x, y = sam_t.simulate(ts_length=n)\n",
    "\n",
    "fig, axes = plt.subplots(3, 1, sharex=True, figsize=(12, 8))\n",
    "titles = ['Output ($Y_t$)', 'Consumption ($C_t$)', 'Investment ($I_t$)']\n",
    "colors = ['darkblue', 'red', 'purple']\n",
    "for ax, series, title, color in zip(axes, y, titles, colors):\n",
    "    ax.plot(series, color=color)\n",
    "    ax.set(title=title, xlim=(0, n))\n",
    "    ax.grid()\n",
    "\n",
    "axes[-1].set_xlabel('Iteration')\n",
    "\n",
    "plt.show()"
   ]
  },
  {
   "cell_type": "markdown",
   "metadata": {},
   "source": [
    "### Other methods in the LinearStateSpace class\n",
    "\n",
    "Let’s plot **impulse response functions** for the instance of the\n",
    "Samuelson model using a method in the LinearStateSpace class"
   ]
  },
  {
   "cell_type": "code",
   "execution_count": 7,
   "metadata": {
    "hide-output": false
   },
   "outputs": [
    {
     "ename": "NameError",
     "evalue": "name 'sam_t' is not defined",
     "output_type": "error",
     "traceback": [
      "\u001b[1;31m---------------------------------------------------------------------------\u001b[0m",
      "\u001b[1;31mNameError\u001b[0m                                 Traceback (most recent call last)",
      "\u001b[1;32m<ipython-input-7-6b7c75e560f3>\u001b[0m in \u001b[0;36m<module>\u001b[1;34m\u001b[0m\n\u001b[1;32m----> 1\u001b[1;33m \u001b[0mimres\u001b[0m \u001b[1;33m=\u001b[0m \u001b[0msam_t\u001b[0m\u001b[1;33m.\u001b[0m\u001b[0mimpulse_response\u001b[0m\u001b[1;33m(\u001b[0m\u001b[1;33m)\u001b[0m\u001b[1;33m\u001b[0m\u001b[1;33m\u001b[0m\u001b[0m\n\u001b[0m\u001b[0;32m      2\u001b[0m \u001b[0mimres\u001b[0m \u001b[1;33m=\u001b[0m \u001b[0mnp\u001b[0m\u001b[1;33m.\u001b[0m\u001b[0masarray\u001b[0m\u001b[1;33m(\u001b[0m\u001b[0mimres\u001b[0m\u001b[1;33m)\u001b[0m\u001b[1;33m\u001b[0m\u001b[1;33m\u001b[0m\u001b[0m\n\u001b[0;32m      3\u001b[0m \u001b[0my1\u001b[0m \u001b[1;33m=\u001b[0m \u001b[0mimres\u001b[0m\u001b[1;33m[\u001b[0m\u001b[1;33m:\u001b[0m\u001b[1;33m,\u001b[0m \u001b[1;33m:\u001b[0m\u001b[1;33m,\u001b[0m \u001b[1;36m0\u001b[0m\u001b[1;33m]\u001b[0m\u001b[1;33m\u001b[0m\u001b[1;33m\u001b[0m\u001b[0m\n\u001b[0;32m      4\u001b[0m \u001b[0my2\u001b[0m \u001b[1;33m=\u001b[0m \u001b[0mimres\u001b[0m\u001b[1;33m[\u001b[0m\u001b[1;33m:\u001b[0m\u001b[1;33m,\u001b[0m \u001b[1;33m:\u001b[0m\u001b[1;33m,\u001b[0m \u001b[1;36m1\u001b[0m\u001b[1;33m]\u001b[0m\u001b[1;33m\u001b[0m\u001b[1;33m\u001b[0m\u001b[0m\n\u001b[0;32m      5\u001b[0m \u001b[0my1\u001b[0m\u001b[1;33m.\u001b[0m\u001b[0mshape\u001b[0m\u001b[1;33m\u001b[0m\u001b[1;33m\u001b[0m\u001b[0m\n",
      "\u001b[1;31mNameError\u001b[0m: name 'sam_t' is not defined"
     ]
    }
   ],
   "source": [
    "imres = sam_t.impulse_response()\n",
    "imres = np.asarray(imres)\n",
    "y1 = imres[:, :, 0]\n",
    "y2 = imres[:, :, 1]\n",
    "y1.shape"
   ]
  },
  {
   "cell_type": "markdown",
   "metadata": {},
   "source": [
    "$$\n",
    "\\left ( 2, \\quad 6, \\quad 1\\right )\n",
    "$$\n",
    "\n",
    "Now let’s compute the zeros of the characteristic polynomial by simply\n",
    "calculating the eigenvalues of $ A $"
   ]
  },
  {
   "cell_type": "code",
   "execution_count": 33,
   "metadata": {
    "hide-output": false,
    "scrolled": true
   },
   "outputs": [
    {
     "ename": "NameError",
     "evalue": "name 'A' is not defined",
     "output_type": "error",
     "traceback": [
      "\u001b[1;31m---------------------------------------------------------------------------\u001b[0m",
      "\u001b[1;31mNameError\u001b[0m                                 Traceback (most recent call last)",
      "\u001b[1;32m<ipython-input-33-9e2ca917ab5a>\u001b[0m in \u001b[0;36m<module>\u001b[1;34m\u001b[0m\n\u001b[1;32m----> 1\u001b[1;33m \u001b[0mA\u001b[0m \u001b[1;33m=\u001b[0m \u001b[0mnp\u001b[0m\u001b[1;33m.\u001b[0m\u001b[0masarray\u001b[0m\u001b[1;33m(\u001b[0m\u001b[0mA\u001b[0m\u001b[1;33m)\u001b[0m\u001b[1;33m\u001b[0m\u001b[1;33m\u001b[0m\u001b[0m\n\u001b[0m\u001b[0;32m      2\u001b[0m \u001b[0mw\u001b[0m\u001b[1;33m,\u001b[0m \u001b[0mv\u001b[0m \u001b[1;33m=\u001b[0m \u001b[0mnp\u001b[0m\u001b[1;33m.\u001b[0m\u001b[0mlinalg\u001b[0m\u001b[1;33m.\u001b[0m\u001b[0meig\u001b[0m\u001b[1;33m(\u001b[0m\u001b[0mA\u001b[0m\u001b[1;33m)\u001b[0m\u001b[1;33m\u001b[0m\u001b[1;33m\u001b[0m\u001b[0m\n\u001b[0;32m      3\u001b[0m \u001b[0mprint\u001b[0m\u001b[1;33m(\u001b[0m\u001b[0mw\u001b[0m\u001b[1;33m)\u001b[0m\u001b[1;33m\u001b[0m\u001b[1;33m\u001b[0m\u001b[0m\n",
      "\u001b[1;31mNameError\u001b[0m: name 'A' is not defined"
     ]
    }
   ],
   "source": [
    "A = np.asarray(A)\n",
    "w, v = np.linalg.eig(A)\n",
    "print(w)"
   ]
  },
  {
   "cell_type": "markdown",
   "metadata": {},
   "source": [
    "### Inheriting methods from `LinearStateSpace`\n",
    "\n",
    "We could also create a subclass of `LinearStateSpace` (inheriting all its\n",
    "methods and attributes) to add more functions to use"
   ]
  },
  {
   "cell_type": "code",
   "execution_count": 8,
   "metadata": {
    "hide-output": false
   },
   "outputs": [
    {
     "ename": "NameError",
     "evalue": "name 'LinearStateSpace' is not defined",
     "output_type": "error",
     "traceback": [
      "\u001b[1;31m---------------------------------------------------------------------------\u001b[0m",
      "\u001b[1;31mNameError\u001b[0m                                 Traceback (most recent call last)",
      "\u001b[1;32m<ipython-input-8-1ec9c53dcf9f>\u001b[0m in \u001b[0;36m<module>\u001b[1;34m\u001b[0m\n\u001b[1;32m----> 1\u001b[1;33m \u001b[1;32mclass\u001b[0m \u001b[0mSamuelsonLSS\u001b[0m\u001b[1;33m(\u001b[0m\u001b[0mLinearStateSpace\u001b[0m\u001b[1;33m)\u001b[0m\u001b[1;33m:\u001b[0m\u001b[1;33m\u001b[0m\u001b[1;33m\u001b[0m\u001b[0m\n\u001b[0m\u001b[0;32m      2\u001b[0m \u001b[1;33m\u001b[0m\u001b[0m\n\u001b[0;32m      3\u001b[0m     \"\"\"\n\u001b[0;32m      4\u001b[0m     \u001b[0mthis\u001b[0m \u001b[0msubclass\u001b[0m \u001b[0mcreates\u001b[0m \u001b[0ma\u001b[0m \u001b[0mSamuelson\u001b[0m \u001b[0mmultiplier\u001b[0m\u001b[1;33m-\u001b[0m\u001b[0maccelerator\u001b[0m \u001b[0mmodel\u001b[0m\u001b[1;33m\u001b[0m\u001b[1;33m\u001b[0m\u001b[0m\n\u001b[0;32m      5\u001b[0m     \u001b[1;32mas\u001b[0m \u001b[0ma\u001b[0m \u001b[0mlinear\u001b[0m \u001b[0mstate\u001b[0m \u001b[0mspace\u001b[0m \u001b[0msystem\u001b[0m\u001b[1;33m\u001b[0m\u001b[1;33m\u001b[0m\u001b[0m\n",
      "\u001b[1;31mNameError\u001b[0m: name 'LinearStateSpace' is not defined"
     ]
    }
   ],
   "source": [
    "class SamuelsonLSS(LinearStateSpace):\n",
    "\n",
    "    \"\"\"\n",
    "    this subclass creates a Samuelson multiplier-accelerator model\n",
    "    as a linear state space system\n",
    "    \"\"\"\n",
    "    def __init__(self,\n",
    "                 y_0=100,\n",
    "                 y_1=100,\n",
    "                 α=0.8,\n",
    "                 β=0.9,\n",
    "                 γ=10,\n",
    "                 σ=1,\n",
    "                 g=10):\n",
    "\n",
    "        self.α, self.β = α, β\n",
    "        self.y_0, self.y_1, self.g = y_0, y_1, g\n",
    "        self.γ, self.σ = γ, σ\n",
    "\n",
    "        # Define intial conditions\n",
    "        self.μ_0 = [1, y_0, y_1]\n",
    "\n",
    "        self.ρ1 = α + β\n",
    "        self.ρ2 = -β\n",
    "\n",
    "        # Define transition matrix\n",
    "        self.A = [[1,                 0,         0],\n",
    "                  [γ + g,       self.ρ1,   self.ρ2],\n",
    "                  [0,                 1,         0]]\n",
    "\n",
    "        # Define output matrix\n",
    "        self.G = [[γ + g, self.ρ1, self.ρ2],         # this is Y_{t+1}\n",
    "                  [γ,           α,       0],         # this is C_{t+1}\n",
    "                  [0,           β,      -β]]         # this is I_{t+1}\n",
    "\n",
    "        self.C = np.zeros((3, 1))\n",
    "        self.C[1] = σ  # stochastic\n",
    "\n",
    "        # Initialize LSS with parameters from Samuleson model\n",
    "        LinearStateSpace.__init__(self, self.A, self.C, self.G, mu_0=self.μ_0)\n",
    "\n",
    "    def plot_simulation(self, ts_length=100, stationary=True):\n",
    "\n",
    "        # Temporarily store original parameters\n",
    "        temp_μ = self.μ_0\n",
    "        temp_Σ = self.Sigma_0\n",
    "\n",
    "        # Set distribution parameters equal to their stationary values for simulation\n",
    "        if stationary == True:\n",
    "            try:\n",
    "                self.μ_x, self.μ_y, self.σ_x, self.σ_y = self.stationary_distributions()\n",
    "                self.μ_0 = self.μ_y\n",
    "                self.Σ_0 = self.σ_y\n",
    "            # Exception where no convergence achieved when calculating stationary distributions\n",
    "            except ValueError:\n",
    "                print('Stationary distribution does not exist')\n",
    "\n",
    "        x, y = self.simulate(ts_length)\n",
    "\n",
    "        fig, axes = plt.subplots(3, 1, sharex=True, figsize=(12, 8))\n",
    "        titles = ['Output ($Y_t$)', 'Consumption ($C_t$)', 'Investment ($I_t$)']\n",
    "        colors = ['darkblue', 'red', 'purple']\n",
    "        for ax, series, title, color in zip(axes, y, titles, colors):\n",
    "            ax.plot(series, color=color)\n",
    "            ax.set(title=title, xlim=(0, n))\n",
    "            ax.grid()\n",
    "\n",
    "        axes[-1].set_xlabel('Iteration')\n",
    "\n",
    "        # Reset distribution parameters to their initial values\n",
    "        self.μ_0 = temp_μ\n",
    "        self.Sigma_0 = temp_Σ\n",
    "\n",
    "        return fig\n",
    "\n",
    "    def plot_irf(self, j=5):\n",
    "\n",
    "        x, y = self.impulse_response(j)\n",
    "\n",
    "        # Reshape into 3 x j matrix for plotting purposes\n",
    "        yimf = np.array(y).flatten().reshape(j+1, 3).T\n",
    "\n",
    "        fig, axes = plt.subplots(3, 1, sharex=True, figsize=(12, 8))\n",
    "        labels = ['$Y_t$', '$C_t$', '$I_t$']\n",
    "        colors = ['darkblue', 'red', 'purple']\n",
    "        for ax, series, label, color in zip(axes, yimf, labels, colors):\n",
    "            ax.plot(series, color=color)\n",
    "            ax.set(xlim=(0, j))\n",
    "            ax.set_ylabel(label, rotation=0, fontsize=14, labelpad=10)\n",
    "            ax.grid()\n",
    "\n",
    "        axes[0].set_title('Impulse Response Functions')\n",
    "        axes[-1].set_xlabel('Iteration')\n",
    "\n",
    "        return fig\n",
    "\n",
    "    def multipliers(self, j=5):\n",
    "        x, y = self.impulse_response(j)\n",
    "        return np.sum(np.array(y).flatten().reshape(j+1, 3), axis=0)"
   ]
  },
  {
   "cell_type": "markdown",
   "metadata": {},
   "source": [
    "### Illustrations\n",
    "\n",
    "Let’s show how we can use the `SamuelsonLSS`"
   ]
  },
  {
   "cell_type": "code",
   "execution_count": 35,
   "metadata": {
    "hide-output": false
   },
   "outputs": [
    {
     "ename": "NameError",
     "evalue": "name 'SamuelsonLSS' is not defined",
     "output_type": "error",
     "traceback": [
      "\u001b[1;31m---------------------------------------------------------------------------\u001b[0m",
      "\u001b[1;31mNameError\u001b[0m                                 Traceback (most recent call last)",
      "\u001b[1;32m<ipython-input-35-a003552a5c98>\u001b[0m in \u001b[0;36m<module>\u001b[1;34m\u001b[0m\n\u001b[1;32m----> 1\u001b[1;33m \u001b[0msamlss\u001b[0m \u001b[1;33m=\u001b[0m \u001b[0mSamuelsonLSS\u001b[0m\u001b[1;33m(\u001b[0m\u001b[1;33m)\u001b[0m\u001b[1;33m\u001b[0m\u001b[1;33m\u001b[0m\u001b[0m\n\u001b[0m",
      "\u001b[1;31mNameError\u001b[0m: name 'SamuelsonLSS' is not defined"
     ]
    }
   ],
   "source": [
    "samlss = SamuelsonLSS()"
   ]
  },
  {
   "cell_type": "code",
   "execution_count": 36,
   "metadata": {
    "hide-output": false
   },
   "outputs": [
    {
     "ename": "NameError",
     "evalue": "name 'samlss' is not defined",
     "output_type": "error",
     "traceback": [
      "\u001b[1;31m---------------------------------------------------------------------------\u001b[0m",
      "\u001b[1;31mNameError\u001b[0m                                 Traceback (most recent call last)",
      "\u001b[1;32m<ipython-input-36-d4e0dddee81d>\u001b[0m in \u001b[0;36m<module>\u001b[1;34m\u001b[0m\n\u001b[1;32m----> 1\u001b[1;33m \u001b[0msamlss\u001b[0m\u001b[1;33m.\u001b[0m\u001b[0mplot_simulation\u001b[0m\u001b[1;33m(\u001b[0m\u001b[1;36m100\u001b[0m\u001b[1;33m,\u001b[0m \u001b[0mstationary\u001b[0m\u001b[1;33m=\u001b[0m\u001b[1;32mFalse\u001b[0m\u001b[1;33m)\u001b[0m\u001b[1;33m\u001b[0m\u001b[1;33m\u001b[0m\u001b[0m\n\u001b[0m\u001b[0;32m      2\u001b[0m \u001b[0mplt\u001b[0m\u001b[1;33m.\u001b[0m\u001b[0mshow\u001b[0m\u001b[1;33m(\u001b[0m\u001b[1;33m)\u001b[0m\u001b[1;33m\u001b[0m\u001b[1;33m\u001b[0m\u001b[0m\n",
      "\u001b[1;31mNameError\u001b[0m: name 'samlss' is not defined"
     ]
    }
   ],
   "source": [
    "samlss.plot_simulation(100, stationary=False)\n",
    "plt.show()"
   ]
  },
  {
   "cell_type": "code",
   "execution_count": 37,
   "metadata": {
    "hide-output": false
   },
   "outputs": [
    {
     "ename": "NameError",
     "evalue": "name 'samlss' is not defined",
     "output_type": "error",
     "traceback": [
      "\u001b[1;31m---------------------------------------------------------------------------\u001b[0m",
      "\u001b[1;31mNameError\u001b[0m                                 Traceback (most recent call last)",
      "\u001b[1;32m<ipython-input-37-90afd42520e8>\u001b[0m in \u001b[0;36m<module>\u001b[1;34m\u001b[0m\n\u001b[1;32m----> 1\u001b[1;33m \u001b[0msamlss\u001b[0m\u001b[1;33m.\u001b[0m\u001b[0mplot_simulation\u001b[0m\u001b[1;33m(\u001b[0m\u001b[1;36m100\u001b[0m\u001b[1;33m,\u001b[0m \u001b[0mstationary\u001b[0m\u001b[1;33m=\u001b[0m\u001b[1;32mTrue\u001b[0m\u001b[1;33m)\u001b[0m\u001b[1;33m\u001b[0m\u001b[1;33m\u001b[0m\u001b[0m\n\u001b[0m\u001b[0;32m      2\u001b[0m \u001b[0mplt\u001b[0m\u001b[1;33m.\u001b[0m\u001b[0mshow\u001b[0m\u001b[1;33m(\u001b[0m\u001b[1;33m)\u001b[0m\u001b[1;33m\u001b[0m\u001b[1;33m\u001b[0m\u001b[0m\n",
      "\u001b[1;31mNameError\u001b[0m: name 'samlss' is not defined"
     ]
    }
   ],
   "source": [
    "samlss.plot_simulation(100, stationary=True)\n",
    "plt.show()"
   ]
  },
  {
   "cell_type": "code",
   "execution_count": 38,
   "metadata": {
    "hide-output": false
   },
   "outputs": [
    {
     "ename": "NameError",
     "evalue": "name 'samlss' is not defined",
     "output_type": "error",
     "traceback": [
      "\u001b[1;31m---------------------------------------------------------------------------\u001b[0m",
      "\u001b[1;31mNameError\u001b[0m                                 Traceback (most recent call last)",
      "\u001b[1;32m<ipython-input-38-5994f09f3082>\u001b[0m in \u001b[0;36m<module>\u001b[1;34m\u001b[0m\n\u001b[1;32m----> 1\u001b[1;33m \u001b[0msamlss\u001b[0m\u001b[1;33m.\u001b[0m\u001b[0mplot_irf\u001b[0m\u001b[1;33m(\u001b[0m\u001b[1;36m100\u001b[0m\u001b[1;33m)\u001b[0m\u001b[1;33m\u001b[0m\u001b[1;33m\u001b[0m\u001b[0m\n\u001b[0m\u001b[0;32m      2\u001b[0m \u001b[0mplt\u001b[0m\u001b[1;33m.\u001b[0m\u001b[0mshow\u001b[0m\u001b[1;33m(\u001b[0m\u001b[1;33m)\u001b[0m\u001b[1;33m\u001b[0m\u001b[1;33m\u001b[0m\u001b[0m\n",
      "\u001b[1;31mNameError\u001b[0m: name 'samlss' is not defined"
     ]
    }
   ],
   "source": [
    "samlss.plot_irf(100)\n",
    "plt.show()"
   ]
  },
  {
   "cell_type": "code",
   "execution_count": 39,
   "metadata": {
    "hide-output": false
   },
   "outputs": [
    {
     "ename": "NameError",
     "evalue": "name 'samlss' is not defined",
     "output_type": "error",
     "traceback": [
      "\u001b[1;31m---------------------------------------------------------------------------\u001b[0m",
      "\u001b[1;31mNameError\u001b[0m                                 Traceback (most recent call last)",
      "\u001b[1;32m<ipython-input-39-1b2f80d4160c>\u001b[0m in \u001b[0;36m<module>\u001b[1;34m\u001b[0m\n\u001b[1;32m----> 1\u001b[1;33m \u001b[0msamlss\u001b[0m\u001b[1;33m.\u001b[0m\u001b[0mmultipliers\u001b[0m\u001b[1;33m(\u001b[0m\u001b[1;33m)\u001b[0m\u001b[1;33m\u001b[0m\u001b[1;33m\u001b[0m\u001b[0m\n\u001b[0m",
      "\u001b[1;31mNameError\u001b[0m: name 'samlss' is not defined"
     ]
    }
   ],
   "source": [
    "samlss.multipliers()"
   ]
  },
  {
   "cell_type": "markdown",
   "metadata": {},
   "source": [
    "## Pure multiplier model\n",
    "\n",
    "Let’s shut down the accelerator by setting $ b=0 $ to get a pure\n",
    "multiplier model\n",
    "\n",
    "- the absence of cycles gives an idea about why Samuelson included the\n",
    "  accelerator  "
   ]
  },
  {
   "cell_type": "code",
   "execution_count": 40,
   "metadata": {
    "hide-output": false
   },
   "outputs": [
    {
     "ename": "NameError",
     "evalue": "name 'SamuelsonLSS' is not defined",
     "output_type": "error",
     "traceback": [
      "\u001b[1;31m---------------------------------------------------------------------------\u001b[0m",
      "\u001b[1;31mNameError\u001b[0m                                 Traceback (most recent call last)",
      "\u001b[1;32m<ipython-input-40-7d097a863c32>\u001b[0m in \u001b[0;36m<module>\u001b[1;34m\u001b[0m\n\u001b[1;32m----> 1\u001b[1;33m \u001b[0mpure_multiplier\u001b[0m \u001b[1;33m=\u001b[0m \u001b[0mSamuelsonLSS\u001b[0m\u001b[1;33m(\u001b[0m\u001b[0mα\u001b[0m\u001b[1;33m=\u001b[0m\u001b[1;36m0.95\u001b[0m\u001b[1;33m,\u001b[0m \u001b[0mβ\u001b[0m\u001b[1;33m=\u001b[0m\u001b[1;36m0\u001b[0m\u001b[1;33m)\u001b[0m\u001b[1;33m\u001b[0m\u001b[1;33m\u001b[0m\u001b[0m\n\u001b[0m",
      "\u001b[1;31mNameError\u001b[0m: name 'SamuelsonLSS' is not defined"
     ]
    }
   ],
   "source": [
    "pure_multiplier = SamuelsonLSS(α=0.95, β=0)"
   ]
  },
  {
   "cell_type": "code",
   "execution_count": 41,
   "metadata": {
    "hide-output": false
   },
   "outputs": [
    {
     "ename": "NameError",
     "evalue": "name 'pure_multiplier' is not defined",
     "output_type": "error",
     "traceback": [
      "\u001b[1;31m---------------------------------------------------------------------------\u001b[0m",
      "\u001b[1;31mNameError\u001b[0m                                 Traceback (most recent call last)",
      "\u001b[1;32m<ipython-input-41-504f03caf2c2>\u001b[0m in \u001b[0;36m<module>\u001b[1;34m\u001b[0m\n\u001b[1;32m----> 1\u001b[1;33m \u001b[0mpure_multiplier\u001b[0m\u001b[1;33m.\u001b[0m\u001b[0mplot_simulation\u001b[0m\u001b[1;33m(\u001b[0m\u001b[1;33m)\u001b[0m\u001b[1;33m\u001b[0m\u001b[1;33m\u001b[0m\u001b[0m\n\u001b[0m",
      "\u001b[1;31mNameError\u001b[0m: name 'pure_multiplier' is not defined"
     ]
    }
   ],
   "source": [
    "pure_multiplier.plot_simulation()"
   ]
  },
  {
   "cell_type": "code",
   "execution_count": 42,
   "metadata": {
    "hide-output": false
   },
   "outputs": [
    {
     "ename": "NameError",
     "evalue": "name 'SamuelsonLSS' is not defined",
     "output_type": "error",
     "traceback": [
      "\u001b[1;31m---------------------------------------------------------------------------\u001b[0m",
      "\u001b[1;31mNameError\u001b[0m                                 Traceback (most recent call last)",
      "\u001b[1;32m<ipython-input-42-772ba7abddfd>\u001b[0m in \u001b[0;36m<module>\u001b[1;34m\u001b[0m\n\u001b[1;32m----> 1\u001b[1;33m \u001b[0mpure_multiplier\u001b[0m \u001b[1;33m=\u001b[0m \u001b[0mSamuelsonLSS\u001b[0m\u001b[1;33m(\u001b[0m\u001b[0mα\u001b[0m\u001b[1;33m=\u001b[0m\u001b[1;36m0.8\u001b[0m\u001b[1;33m,\u001b[0m \u001b[0mβ\u001b[0m\u001b[1;33m=\u001b[0m\u001b[1;36m0\u001b[0m\u001b[1;33m)\u001b[0m\u001b[1;33m\u001b[0m\u001b[1;33m\u001b[0m\u001b[0m\n\u001b[0m",
      "\u001b[1;31mNameError\u001b[0m: name 'SamuelsonLSS' is not defined"
     ]
    }
   ],
   "source": [
    "pure_multiplier = SamuelsonLSS(α=0.8, β=0)"
   ]
  },
  {
   "cell_type": "code",
   "execution_count": 43,
   "metadata": {
    "hide-output": false
   },
   "outputs": [
    {
     "ename": "NameError",
     "evalue": "name 'pure_multiplier' is not defined",
     "output_type": "error",
     "traceback": [
      "\u001b[1;31m---------------------------------------------------------------------------\u001b[0m",
      "\u001b[1;31mNameError\u001b[0m                                 Traceback (most recent call last)",
      "\u001b[1;32m<ipython-input-43-504f03caf2c2>\u001b[0m in \u001b[0;36m<module>\u001b[1;34m\u001b[0m\n\u001b[1;32m----> 1\u001b[1;33m \u001b[0mpure_multiplier\u001b[0m\u001b[1;33m.\u001b[0m\u001b[0mplot_simulation\u001b[0m\u001b[1;33m(\u001b[0m\u001b[1;33m)\u001b[0m\u001b[1;33m\u001b[0m\u001b[1;33m\u001b[0m\u001b[0m\n\u001b[0m",
      "\u001b[1;31mNameError\u001b[0m: name 'pure_multiplier' is not defined"
     ]
    }
   ],
   "source": [
    "pure_multiplier.plot_simulation()"
   ]
  },
  {
   "cell_type": "code",
   "execution_count": 44,
   "metadata": {
    "hide-output": false
   },
   "outputs": [
    {
     "ename": "NameError",
     "evalue": "name 'pure_multiplier' is not defined",
     "output_type": "error",
     "traceback": [
      "\u001b[1;31m---------------------------------------------------------------------------\u001b[0m",
      "\u001b[1;31mNameError\u001b[0m                                 Traceback (most recent call last)",
      "\u001b[1;32m<ipython-input-44-3df180929e39>\u001b[0m in \u001b[0;36m<module>\u001b[1;34m\u001b[0m\n\u001b[1;32m----> 1\u001b[1;33m \u001b[0mpure_multiplier\u001b[0m\u001b[1;33m.\u001b[0m\u001b[0mplot_irf\u001b[0m\u001b[1;33m(\u001b[0m\u001b[1;36m100\u001b[0m\u001b[1;33m)\u001b[0m\u001b[1;33m\u001b[0m\u001b[1;33m\u001b[0m\u001b[0m\n\u001b[0m",
      "\u001b[1;31mNameError\u001b[0m: name 'pure_multiplier' is not defined"
     ]
    }
   ],
   "source": [
    "pure_multiplier.plot_irf(100)"
   ]
  },
  {
   "cell_type": "markdown",
   "metadata": {},
   "source": [
    "## Summary\n",
    "\n",
    "In this lecture, we wrote functions and classes to represent non-stochastic and\n",
    "stochastic versions of the Samuelson (1939) multiplier-accelerator model, described\n",
    "in [[Sam39]](zreferences.ipynb#samuelson1939)\n",
    "\n",
    "We saw that different parameter values led to different output paths, which\n",
    "could either be stationary, explosive, or oscillating\n",
    "\n",
    "We also were able to represent the model using the [QuantEcon.py](http://quantecon.org/python_index.html)\n",
    "[LinearStateSpace](https://github.com/QuantEcon/QuantEcon.py/blob/master/quantecon/lss.py) class"
   ]
  }
 ],
 "metadata": {
  "filename": "samuelson.rst",
  "kernelspec": {
   "display_name": "Python 3",
   "language": "python",
   "name": "python3"
  },
  "language_info": {
   "codemirror_mode": {
    "name": "ipython",
    "version": 3
   },
   "file_extension": ".py",
   "mimetype": "text/x-python",
   "name": "python",
   "nbconvert_exporter": "python",
   "pygments_lexer": "ipython3",
   "version": "3.7.1"
  },
  "title": "OOP III: The Samuelson Accelerator"
 },
 "nbformat": 4,
 "nbformat_minor": 2
}
